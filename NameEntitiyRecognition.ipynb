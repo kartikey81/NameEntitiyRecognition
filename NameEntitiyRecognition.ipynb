{
  "cells": [
    {
      "cell_type": "code",
      "execution_count": null,
      "metadata": {
        "colab": {
          "base_uri": "https://localhost:8080/"
        },
        "id": "79w7kzKhzEUD",
        "outputId": "489d081b-133c-445c-c7aa-05a0f5307e1b"
      },
      "outputs": [
        {
          "output_type": "stream",
          "name": "stdout",
          "text": [
            "Tensorflow version: 2.8.2\n",
            "GPU detected: []\n"
          ]
        }
      ],
      "source": [
        "%matplotlib inline\n",
        "import matplotlib.pyplot as plt\n",
        "import pandas as pd\n",
        "import numpy as np\n",
        "np.random.seed(0)\n",
        "plt.style.use(\"ggplot\")\n",
        "\n",
        "import tensorflow as tf\n",
        "print('Tensorflow version:', tf.__version__)\n",
        "print('GPU detected:', tf.config.list_physical_devices('GPU'))"
      ]
    },
    {
      "cell_type": "code",
      "execution_count": null,
      "metadata": {
        "colab": {
          "base_uri": "https://localhost:8080/",
          "height": 73,
          "resources": {
            "http://localhost:8080/nbextensions/google.colab/files.js": {
              "data": "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",
              "headers": [
                [
                  "content-type",
                  "application/javascript"
                ]
              ],
              "ok": true,
              "status": 200,
              "status_text": ""
            }
          }
        },
        "id": "RLF9UUOiz-gX",
        "outputId": "b41ff7a0-f044-431f-8476-981871ea95c7"
      },
      "outputs": [
        {
          "output_type": "display_data",
          "data": {
            "text/plain": [
              "<IPython.core.display.HTML object>"
            ],
            "text/html": [
              "\n",
              "     <input type=\"file\" id=\"files-2496f208-35bd-4796-ac74-2b1244e39368\" name=\"files[]\" multiple disabled\n",
              "        style=\"border:none\" />\n",
              "     <output id=\"result-2496f208-35bd-4796-ac74-2b1244e39368\">\n",
              "      Upload widget is only available when the cell has been executed in the\n",
              "      current browser session. Please rerun this cell to enable.\n",
              "      </output>\n",
              "      <script src=\"/nbextensions/google.colab/files.js\"></script> "
            ]
          },
          "metadata": {}
        },
        {
          "output_type": "stream",
          "name": "stdout",
          "text": [
            "Saving ner_dataset.csv to ner_dataset.csv\n"
          ]
        }
      ],
      "source": [
        "from google.colab import files\n",
        "uploaded=files.upload()"
      ]
    },
    {
      "cell_type": "code",
      "execution_count": null,
      "metadata": {
        "colab": {
          "base_uri": "https://localhost:8080/"
        },
        "id": "FRoqwhMD0Nzu",
        "outputId": "c9f41bd6-33b0-4b33-d35a-0e48b3f825d6"
      },
      "outputs": [
        {
          "output_type": "stream",
          "name": "stdout",
          "text": [
            "Mounted at /content/drive\n"
          ]
        }
      ],
      "source": [
        "# Mounting Google Drive\n",
        "from google.colab import drive\n",
        "drive.mount('/content/drive')"
      ]
    },
    {
      "cell_type": "code",
      "execution_count": null,
      "metadata": {
        "colab": {
          "base_uri": "https://localhost:8080/",
          "height": 676
        },
        "id": "igE4gCfezKjH",
        "outputId": "48501452-ca8d-482f-fa22-f18510be1ee0"
      },
      "outputs": [
        {
          "output_type": "execute_result",
          "data": {
            "text/plain": [
              "     Sentence #           Word  POS    Tag\n",
              "0   Sentence: 1      Thousands  NNS      O\n",
              "1   Sentence: 1             of   IN      O\n",
              "2   Sentence: 1  demonstrators  NNS      O\n",
              "3   Sentence: 1           have  VBP      O\n",
              "4   Sentence: 1        marched  VBN      O\n",
              "5   Sentence: 1        through   IN      O\n",
              "6   Sentence: 1         London  NNP  B-geo\n",
              "7   Sentence: 1             to   TO      O\n",
              "8   Sentence: 1        protest   VB      O\n",
              "9   Sentence: 1            the   DT      O\n",
              "10  Sentence: 1            war   NN      O\n",
              "11  Sentence: 1             in   IN      O\n",
              "12  Sentence: 1           Iraq  NNP  B-geo\n",
              "13  Sentence: 1            and   CC      O\n",
              "14  Sentence: 1         demand   VB      O\n",
              "15  Sentence: 1            the   DT      O\n",
              "16  Sentence: 1     withdrawal   NN      O\n",
              "17  Sentence: 1             of   IN      O\n",
              "18  Sentence: 1        British   JJ  B-gpe\n",
              "19  Sentence: 1         troops  NNS      O"
            ],
            "text/html": [
              "\n",
              "  <div id=\"df-64c6ea8b-6dff-40fe-a9d0-92f463853eba\">\n",
              "    <div class=\"colab-df-container\">\n",
              "      <div>\n",
              "<style scoped>\n",
              "    .dataframe tbody tr th:only-of-type {\n",
              "        vertical-align: middle;\n",
              "    }\n",
              "\n",
              "    .dataframe tbody tr th {\n",
              "        vertical-align: top;\n",
              "    }\n",
              "\n",
              "    .dataframe thead th {\n",
              "        text-align: right;\n",
              "    }\n",
              "</style>\n",
              "<table border=\"1\" class=\"dataframe\">\n",
              "  <thead>\n",
              "    <tr style=\"text-align: right;\">\n",
              "      <th></th>\n",
              "      <th>Sentence #</th>\n",
              "      <th>Word</th>\n",
              "      <th>POS</th>\n",
              "      <th>Tag</th>\n",
              "    </tr>\n",
              "  </thead>\n",
              "  <tbody>\n",
              "    <tr>\n",
              "      <th>0</th>\n",
              "      <td>Sentence: 1</td>\n",
              "      <td>Thousands</td>\n",
              "      <td>NNS</td>\n",
              "      <td>O</td>\n",
              "    </tr>\n",
              "    <tr>\n",
              "      <th>1</th>\n",
              "      <td>Sentence: 1</td>\n",
              "      <td>of</td>\n",
              "      <td>IN</td>\n",
              "      <td>O</td>\n",
              "    </tr>\n",
              "    <tr>\n",
              "      <th>2</th>\n",
              "      <td>Sentence: 1</td>\n",
              "      <td>demonstrators</td>\n",
              "      <td>NNS</td>\n",
              "      <td>O</td>\n",
              "    </tr>\n",
              "    <tr>\n",
              "      <th>3</th>\n",
              "      <td>Sentence: 1</td>\n",
              "      <td>have</td>\n",
              "      <td>VBP</td>\n",
              "      <td>O</td>\n",
              "    </tr>\n",
              "    <tr>\n",
              "      <th>4</th>\n",
              "      <td>Sentence: 1</td>\n",
              "      <td>marched</td>\n",
              "      <td>VBN</td>\n",
              "      <td>O</td>\n",
              "    </tr>\n",
              "    <tr>\n",
              "      <th>5</th>\n",
              "      <td>Sentence: 1</td>\n",
              "      <td>through</td>\n",
              "      <td>IN</td>\n",
              "      <td>O</td>\n",
              "    </tr>\n",
              "    <tr>\n",
              "      <th>6</th>\n",
              "      <td>Sentence: 1</td>\n",
              "      <td>London</td>\n",
              "      <td>NNP</td>\n",
              "      <td>B-geo</td>\n",
              "    </tr>\n",
              "    <tr>\n",
              "      <th>7</th>\n",
              "      <td>Sentence: 1</td>\n",
              "      <td>to</td>\n",
              "      <td>TO</td>\n",
              "      <td>O</td>\n",
              "    </tr>\n",
              "    <tr>\n",
              "      <th>8</th>\n",
              "      <td>Sentence: 1</td>\n",
              "      <td>protest</td>\n",
              "      <td>VB</td>\n",
              "      <td>O</td>\n",
              "    </tr>\n",
              "    <tr>\n",
              "      <th>9</th>\n",
              "      <td>Sentence: 1</td>\n",
              "      <td>the</td>\n",
              "      <td>DT</td>\n",
              "      <td>O</td>\n",
              "    </tr>\n",
              "    <tr>\n",
              "      <th>10</th>\n",
              "      <td>Sentence: 1</td>\n",
              "      <td>war</td>\n",
              "      <td>NN</td>\n",
              "      <td>O</td>\n",
              "    </tr>\n",
              "    <tr>\n",
              "      <th>11</th>\n",
              "      <td>Sentence: 1</td>\n",
              "      <td>in</td>\n",
              "      <td>IN</td>\n",
              "      <td>O</td>\n",
              "    </tr>\n",
              "    <tr>\n",
              "      <th>12</th>\n",
              "      <td>Sentence: 1</td>\n",
              "      <td>Iraq</td>\n",
              "      <td>NNP</td>\n",
              "      <td>B-geo</td>\n",
              "    </tr>\n",
              "    <tr>\n",
              "      <th>13</th>\n",
              "      <td>Sentence: 1</td>\n",
              "      <td>and</td>\n",
              "      <td>CC</td>\n",
              "      <td>O</td>\n",
              "    </tr>\n",
              "    <tr>\n",
              "      <th>14</th>\n",
              "      <td>Sentence: 1</td>\n",
              "      <td>demand</td>\n",
              "      <td>VB</td>\n",
              "      <td>O</td>\n",
              "    </tr>\n",
              "    <tr>\n",
              "      <th>15</th>\n",
              "      <td>Sentence: 1</td>\n",
              "      <td>the</td>\n",
              "      <td>DT</td>\n",
              "      <td>O</td>\n",
              "    </tr>\n",
              "    <tr>\n",
              "      <th>16</th>\n",
              "      <td>Sentence: 1</td>\n",
              "      <td>withdrawal</td>\n",
              "      <td>NN</td>\n",
              "      <td>O</td>\n",
              "    </tr>\n",
              "    <tr>\n",
              "      <th>17</th>\n",
              "      <td>Sentence: 1</td>\n",
              "      <td>of</td>\n",
              "      <td>IN</td>\n",
              "      <td>O</td>\n",
              "    </tr>\n",
              "    <tr>\n",
              "      <th>18</th>\n",
              "      <td>Sentence: 1</td>\n",
              "      <td>British</td>\n",
              "      <td>JJ</td>\n",
              "      <td>B-gpe</td>\n",
              "    </tr>\n",
              "    <tr>\n",
              "      <th>19</th>\n",
              "      <td>Sentence: 1</td>\n",
              "      <td>troops</td>\n",
              "      <td>NNS</td>\n",
              "      <td>O</td>\n",
              "    </tr>\n",
              "  </tbody>\n",
              "</table>\n",
              "</div>\n",
              "      <button class=\"colab-df-convert\" onclick=\"convertToInteractive('df-64c6ea8b-6dff-40fe-a9d0-92f463853eba')\"\n",
              "              title=\"Convert this dataframe to an interactive table.\"\n",
              "              style=\"display:none;\">\n",
              "        \n",
              "  <svg xmlns=\"http://www.w3.org/2000/svg\" height=\"24px\"viewBox=\"0 0 24 24\"\n",
              "       width=\"24px\">\n",
              "    <path d=\"M0 0h24v24H0V0z\" fill=\"none\"/>\n",
              "    <path d=\"M18.56 5.44l.94 2.06.94-2.06 2.06-.94-2.06-.94-.94-2.06-.94 2.06-2.06.94zm-11 1L8.5 8.5l.94-2.06 2.06-.94-2.06-.94L8.5 2.5l-.94 2.06-2.06.94zm10 10l.94 2.06.94-2.06 2.06-.94-2.06-.94-.94-2.06-.94 2.06-2.06.94z\"/><path d=\"M17.41 7.96l-1.37-1.37c-.4-.4-.92-.59-1.43-.59-.52 0-1.04.2-1.43.59L10.3 9.45l-7.72 7.72c-.78.78-.78 2.05 0 2.83L4 21.41c.39.39.9.59 1.41.59.51 0 1.02-.2 1.41-.59l7.78-7.78 2.81-2.81c.8-.78.8-2.07 0-2.86zM5.41 20L4 18.59l7.72-7.72 1.47 1.35L5.41 20z\"/>\n",
              "  </svg>\n",
              "      </button>\n",
              "      \n",
              "  <style>\n",
              "    .colab-df-container {\n",
              "      display:flex;\n",
              "      flex-wrap:wrap;\n",
              "      gap: 12px;\n",
              "    }\n",
              "\n",
              "    .colab-df-convert {\n",
              "      background-color: #E8F0FE;\n",
              "      border: none;\n",
              "      border-radius: 50%;\n",
              "      cursor: pointer;\n",
              "      display: none;\n",
              "      fill: #1967D2;\n",
              "      height: 32px;\n",
              "      padding: 0 0 0 0;\n",
              "      width: 32px;\n",
              "    }\n",
              "\n",
              "    .colab-df-convert:hover {\n",
              "      background-color: #E2EBFA;\n",
              "      box-shadow: 0px 1px 2px rgba(60, 64, 67, 0.3), 0px 1px 3px 1px rgba(60, 64, 67, 0.15);\n",
              "      fill: #174EA6;\n",
              "    }\n",
              "\n",
              "    [theme=dark] .colab-df-convert {\n",
              "      background-color: #3B4455;\n",
              "      fill: #D2E3FC;\n",
              "    }\n",
              "\n",
              "    [theme=dark] .colab-df-convert:hover {\n",
              "      background-color: #434B5C;\n",
              "      box-shadow: 0px 1px 3px 1px rgba(0, 0, 0, 0.15);\n",
              "      filter: drop-shadow(0px 1px 2px rgba(0, 0, 0, 0.3));\n",
              "      fill: #FFFFFF;\n",
              "    }\n",
              "  </style>\n",
              "\n",
              "      <script>\n",
              "        const buttonEl =\n",
              "          document.querySelector('#df-64c6ea8b-6dff-40fe-a9d0-92f463853eba button.colab-df-convert');\n",
              "        buttonEl.style.display =\n",
              "          google.colab.kernel.accessAllowed ? 'block' : 'none';\n",
              "\n",
              "        async function convertToInteractive(key) {\n",
              "          const element = document.querySelector('#df-64c6ea8b-6dff-40fe-a9d0-92f463853eba');\n",
              "          const dataTable =\n",
              "            await google.colab.kernel.invokeFunction('convertToInteractive',\n",
              "                                                     [key], {});\n",
              "          if (!dataTable) return;\n",
              "\n",
              "          const docLinkHtml = 'Like what you see? Visit the ' +\n",
              "            '<a target=\"_blank\" href=https://colab.research.google.com/notebooks/data_table.ipynb>data table notebook</a>'\n",
              "            + ' to learn more about interactive tables.';\n",
              "          element.innerHTML = '';\n",
              "          dataTable['output_type'] = 'display_data';\n",
              "          await google.colab.output.renderOutput(dataTable, element);\n",
              "          const docLink = document.createElement('div');\n",
              "          docLink.innerHTML = docLinkHtml;\n",
              "          element.appendChild(docLink);\n",
              "        }\n",
              "      </script>\n",
              "    </div>\n",
              "  </div>\n",
              "  "
            ]
          },
          "metadata": {},
          "execution_count": 4
        }
      ],
      "source": [
        "data = pd.read_csv(\"ner_dataset.csv\", encoding=\"latin1\")\n",
        "data = data.fillna(method=\"ffill\")\n",
        "data.head(20)"
      ]
    },
    {
      "cell_type": "code",
      "execution_count": null,
      "metadata": {
        "colab": {
          "base_uri": "https://localhost:8080/"
        },
        "id": "a6daLIwF0kUT",
        "outputId": "7d44e392-ee16-4680-fc39-c92fbc122ff5"
      },
      "outputs": [
        {
          "output_type": "stream",
          "name": "stdout",
          "text": [
            "Unique words in corpus: 35178\n",
            "Unique tags in corpus: 17\n"
          ]
        }
      ],
      "source": [
        "print(\"Unique words in corpus:\", data['Word'].nunique())\n",
        "print(\"Unique tags in corpus:\", data['Tag'].nunique())"
      ]
    },
    {
      "cell_type": "code",
      "execution_count": null,
      "metadata": {
        "id": "foClmCpAzVIs"
      },
      "outputs": [],
      "source": [
        "words = list(set(data[\"Word\"].values))\n",
        "words.append(\"ENDPAD\")\n",
        "num_words = len(words)"
      ]
    },
    {
      "cell_type": "code",
      "execution_count": null,
      "metadata": {
        "id": "dgczjrvx1SuS"
      },
      "outputs": [],
      "source": [
        "tags = list(set(data[\"Tag\"].values))\n",
        "num_tags = len(tags)"
      ]
    },
    {
      "cell_type": "code",
      "execution_count": null,
      "metadata": {
        "colab": {
          "base_uri": "https://localhost:8080/"
        },
        "id": "QoYDK92vGarq",
        "outputId": "f9c94a3a-0da1-4397-c3de-df67d3a84f20"
      },
      "outputs": [
        {
          "output_type": "execute_result",
          "data": {
            "text/plain": [
              "(35179, 17)"
            ]
          },
          "metadata": {},
          "execution_count": 8
        }
      ],
      "source": [
        "num_words, num_tags"
      ]
    },
    {
      "cell_type": "code",
      "execution_count": null,
      "metadata": {
        "id": "5rhqct2g1Sxk"
      },
      "outputs": [],
      "source": [
        "class SentenceGetter(object):\n",
        "    def __init__(self, data):\n",
        "        self.n_sent = 1\n",
        "        self.data = data\n",
        "        self.empty = False\n",
        "        agg_func = lambda s: [(w, p, t) for w, p, t in zip(s[\"Word\"].values.tolist(),\n",
        "                                                           s[\"POS\"].values.tolist(),\n",
        "                                                           s[\"Tag\"].values.tolist())]\n",
        "        self.grouped = self.data.groupby(\"Sentence #\").apply(agg_func)\n",
        "        self.sentences = [s for s in self.grouped]\n",
        "    \n",
        "    def get_next(self):\n",
        "        try:\n",
        "            s = self.grouped[\"Sentence: {}\".format(self.n_sent)]\n",
        "            self.n_sent += 1\n",
        "            return s\n",
        "        except:\n",
        "            return None"
      ]
    },
    {
      "cell_type": "code",
      "execution_count": null,
      "metadata": {
        "id": "u6ByXEBs1fjL"
      },
      "outputs": [],
      "source": [
        "getter = SentenceGetter(data)\n",
        "sentences = getter.sentences"
      ]
    },
    {
      "cell_type": "code",
      "execution_count": null,
      "metadata": {
        "colab": {
          "base_uri": "https://localhost:8080/"
        },
        "id": "sVWU1REB1i0d",
        "outputId": "983a274b-988e-4ddc-addd-51f614db9fe7"
      },
      "outputs": [
        {
          "output_type": "execute_result",
          "data": {
            "text/plain": [
              "[('Thousands', 'NNS', 'O'),\n",
              " ('of', 'IN', 'O'),\n",
              " ('demonstrators', 'NNS', 'O'),\n",
              " ('have', 'VBP', 'O'),\n",
              " ('marched', 'VBN', 'O'),\n",
              " ('through', 'IN', 'O'),\n",
              " ('London', 'NNP', 'B-geo'),\n",
              " ('to', 'TO', 'O'),\n",
              " ('protest', 'VB', 'O'),\n",
              " ('the', 'DT', 'O'),\n",
              " ('war', 'NN', 'O'),\n",
              " ('in', 'IN', 'O'),\n",
              " ('Iraq', 'NNP', 'B-geo'),\n",
              " ('and', 'CC', 'O'),\n",
              " ('demand', 'VB', 'O'),\n",
              " ('the', 'DT', 'O'),\n",
              " ('withdrawal', 'NN', 'O'),\n",
              " ('of', 'IN', 'O'),\n",
              " ('British', 'JJ', 'B-gpe'),\n",
              " ('troops', 'NNS', 'O'),\n",
              " ('from', 'IN', 'O'),\n",
              " ('that', 'DT', 'O'),\n",
              " ('country', 'NN', 'O'),\n",
              " ('.', '.', 'O')]"
            ]
          },
          "metadata": {},
          "execution_count": 11
        }
      ],
      "source": [
        "sentences[0]"
      ]
    },
    {
      "cell_type": "code",
      "execution_count": null,
      "metadata": {
        "colab": {
          "base_uri": "https://localhost:8080/"
        },
        "id": "szFP8XX7GxNo",
        "outputId": "bf79689a-4906-48fa-fa96-761b16c2d7b8"
      },
      "outputs": [
        {
          "output_type": "execute_result",
          "data": {
            "text/plain": [
              "[('Iranian', 'JJ', 'B-gpe'),\n",
              " ('officials', 'NNS', 'O'),\n",
              " ('say', 'VBP', 'O'),\n",
              " ('they', 'PRP', 'O'),\n",
              " ('expect', 'VBP', 'O'),\n",
              " ('to', 'TO', 'O'),\n",
              " ('get', 'VB', 'O'),\n",
              " ('access', 'NN', 'O'),\n",
              " ('to', 'TO', 'O'),\n",
              " ('sealed', 'JJ', 'O'),\n",
              " ('sensitive', 'JJ', 'O'),\n",
              " ('parts', 'NNS', 'O'),\n",
              " ('of', 'IN', 'O'),\n",
              " ('the', 'DT', 'O'),\n",
              " ('plant', 'NN', 'O'),\n",
              " ('Wednesday', 'NNP', 'B-tim'),\n",
              " (',', ',', 'O'),\n",
              " ('after', 'IN', 'O'),\n",
              " ('an', 'DT', 'O'),\n",
              " ('IAEA', 'NNP', 'B-org'),\n",
              " ('surveillance', 'NN', 'O'),\n",
              " ('system', 'NN', 'O'),\n",
              " ('begins', 'VBZ', 'O'),\n",
              " ('functioning', 'VBG', 'O'),\n",
              " ('.', '.', 'O')]"
            ]
          },
          "metadata": {},
          "execution_count": 12
        }
      ],
      "source": [
        "sentences[1]"
      ]
    },
    {
      "cell_type": "code",
      "execution_count": null,
      "metadata": {
        "id": "E3nWUFK31mmz"
      },
      "outputs": [],
      "source": [
        "word2idx = {w: i + 1 for i, w in enumerate(words)}\n",
        "tag2idx = {t: i for i, t in enumerate(tags)}"
      ]
    },
    {
      "cell_type": "code",
      "execution_count": null,
      "metadata": {
        "colab": {
          "base_uri": "https://localhost:8080/"
        },
        "id": "hQ2yJ2w01pzk",
        "outputId": "a9a983f5-21d4-46ab-8b6b-9467af38c2f0"
      },
      "outputs": [
        {
          "output_type": "execute_result",
          "data": {
            "text/plain": [
              "{'investigative': 1,\n",
              " 'Haidari': 2,\n",
              " 'Travel': 3,\n",
              " 'Tsushko': 4,\n",
              " 'Monday': 5,\n",
              " 'Douste-Blazy': 6,\n",
              " 'Skubiszewski': 7,\n",
              " 'staunchest': 8,\n",
              " 'Andreas': 9,\n",
              " 'anti-THAKSIN': 10,\n",
              " 'Indra': 11,\n",
              " 'Lincoln': 12,\n",
              " 'prolong': 13,\n",
              " 'Chernobyl': 14,\n",
              " 'Okada': 15,\n",
              " 'Boulevard': 16,\n",
              " 'firmer': 17,\n",
              " 'types': 18,\n",
              " 'torn': 19,\n",
              " '187': 20,\n",
              " 'reporting': 21,\n",
              " 'double-taxation': 22,\n",
              " '2004': 23,\n",
              " 'Ministry': 24,\n",
              " 'Jacqui': 25,\n",
              " 'organization': 26,\n",
              " 'Garzon': 27,\n",
              " 'sabotaging': 28,\n",
              " 'Udhampur': 29,\n",
              " 'Mlyn': 30,\n",
              " 'recalls': 31,\n",
              " 'bomb-grade': 32,\n",
              " 'Turkish': 33,\n",
              " 'reinvest': 34,\n",
              " 'researcher': 35,\n",
              " 'might': 36,\n",
              " '1000': 37,\n",
              " 'China-North': 38,\n",
              " 'pursuit': 39,\n",
              " 'fishery': 40,\n",
              " 'heralds': 41,\n",
              " '1853': 42,\n",
              " 'masks': 43,\n",
              " 'Continuing': 44,\n",
              " 'through': 45,\n",
              " 'A9': 46,\n",
              " 'canister': 47,\n",
              " 'constitutionally': 48,\n",
              " 'baptismal': 49,\n",
              " 'breaches': 50,\n",
              " 'fully': 51,\n",
              " 'Moin': 52,\n",
              " 'Frears': 53,\n",
              " 'EDC': 54,\n",
              " 'Mazda': 55,\n",
              " 'Even': 56,\n",
              " 'absorb': 57,\n",
              " 'Afghan-coalition': 58,\n",
              " 'public': 59,\n",
              " 'Bazian': 60,\n",
              " 'Doumgor': 61,\n",
              " 'bananas': 62,\n",
              " 'Telesur': 63,\n",
              " 'ex-boyfriend': 64,\n",
              " 'anti-drug': 65,\n",
              " 'Lodi': 66,\n",
              " 'Physician': 67,\n",
              " 'wracked': 68,\n",
              " 'Marlies': 69,\n",
              " 'evolution': 70,\n",
              " 'Taino': 71,\n",
              " 'thirty': 72,\n",
              " '1872': 73,\n",
              " '17.2': 74,\n",
              " 'stocky': 75,\n",
              " 'recently-halted': 76,\n",
              " 'Bukavu': 77,\n",
              " 'tolls': 78,\n",
              " 'Everado': 79,\n",
              " 'mechanized': 80,\n",
              " 'earmarked': 81,\n",
              " 'inmate': 82,\n",
              " 'mid-week': 83,\n",
              " 'inhumane': 84,\n",
              " 'Speakers': 85,\n",
              " 'Kember': 86,\n",
              " 'sculpted': 87,\n",
              " 'Region': 88,\n",
              " 'appearances': 89,\n",
              " 'delaying': 90,\n",
              " 'Massachusetts': 91,\n",
              " 'Asafa': 92,\n",
              " '/': 93,\n",
              " '8956-kilometer': 94,\n",
              " 'affects': 95,\n",
              " 'riders': 96,\n",
              " 'Dongfeng': 97,\n",
              " 'rewards': 98,\n",
              " 'Vienna-based': 99,\n",
              " 'playoffs': 100,\n",
              " 'earthen': 101,\n",
              " 'brothers': 102,\n",
              " 'Esperanza': 103,\n",
              " 'invaded': 104,\n",
              " 'lens': 105,\n",
              " 'reassure': 106,\n",
              " 'Loud': 107,\n",
              " 'shanties': 108,\n",
              " 'sixth-largest': 109,\n",
              " 'carphedon': 110,\n",
              " 'football-shaped': 111,\n",
              " 'Eduard': 112,\n",
              " 'innocent': 113,\n",
              " 'balloons': 114,\n",
              " 'methane': 115,\n",
              " 'C-130': 116,\n",
              " 'stories': 117,\n",
              " 'clearly': 118,\n",
              " 'commodity-based': 119,\n",
              " 'notification': 120,\n",
              " 'provocations': 121,\n",
              " 'unhappy': 122,\n",
              " 'senses': 123,\n",
              " 'angering': 124,\n",
              " 'attractions': 125,\n",
              " '91': 126,\n",
              " 'Musicalphenomenon': 127,\n",
              " 'al-Obeidi': 128,\n",
              " 'friction': 129,\n",
              " 'supervision': 130,\n",
              " '4,800': 131,\n",
              " 'standstill': 132,\n",
              " 'Panabaj': 133,\n",
              " 'Alako': 134,\n",
              " 'nose': 135,\n",
              " 'exchanges': 136,\n",
              " 'Caracas': 137,\n",
              " 'then-President': 138,\n",
              " 'Kind-hearted': 139,\n",
              " 'evasion': 140,\n",
              " 'game': 141,\n",
              " 'Tisdale': 142,\n",
              " 'Judaism': 143,\n",
              " 'Patat': 144,\n",
              " 'lanes': 145,\n",
              " 'UNITA': 146,\n",
              " '1981': 147,\n",
              " 'development': 148,\n",
              " 'mindful': 149,\n",
              " 'reserves': 150,\n",
              " 'copes': 151,\n",
              " 'Hrytsenko': 152,\n",
              " 'lightened': 153,\n",
              " 'al-Majid': 154,\n",
              " 'soaring': 155,\n",
              " 'light-water': 156,\n",
              " 'Saqqara': 157,\n",
              " 'finalizing': 158,\n",
              " 'Eden': 159,\n",
              " '165': 160,\n",
              " 'Merk': 161,\n",
              " 'routes': 162,\n",
              " 'rightly': 163,\n",
              " 'Dateline': 164,\n",
              " 'Meshesha': 165,\n",
              " 'militant-related': 166,\n",
              " 'attending': 167,\n",
              " 'trillions': 168,\n",
              " 'affirmed': 169,\n",
              " 'Rouen': 170,\n",
              " 'totaling': 171,\n",
              " 'warfare': 172,\n",
              " 'Qatari': 173,\n",
              " 'Timoshenko': 174,\n",
              " 'shantytowns': 175,\n",
              " 'films': 176,\n",
              " 'occurring': 177,\n",
              " 'Pacheco': 178,\n",
              " 'las': 179,\n",
              " 'strikeouts': 180,\n",
              " 'forecasts': 181,\n",
              " 'Celebration': 182,\n",
              " 'Morocco': 183,\n",
              " 'Yanbu': 184,\n",
              " 'intense': 185,\n",
              " '55-nation': 186,\n",
              " 'reparation': 187,\n",
              " 'revisited': 188,\n",
              " 'equal': 189,\n",
              " 'Zoo': 190,\n",
              " 'parishes': 191,\n",
              " 'applauding': 192,\n",
              " 'staff': 193,\n",
              " 'preoccupied': 194,\n",
              " 'Picasso': 195,\n",
              " 'requires': 196,\n",
              " 'Sarabjit': 197,\n",
              " 'Marcell': 198,\n",
              " 'Dengfeng': 199,\n",
              " 'Ariane': 200,\n",
              " 'possible': 201,\n",
              " 'Copenhagen': 202,\n",
              " 'reverse': 203,\n",
              " 'derives': 204,\n",
              " 'encamped': 205,\n",
              " 'Economists': 206,\n",
              " 'inflation': 207,\n",
              " '1802': 208,\n",
              " '20-minute': 209,\n",
              " 'Roses': 210,\n",
              " 'increases': 211,\n",
              " 'Erez': 212,\n",
              " 'Raipur': 213,\n",
              " 'tasted': 214,\n",
              " 'brayed': 215,\n",
              " 'Provisional': 216,\n",
              " 'migrant': 217,\n",
              " 'opposes': 218,\n",
              " 'ourselves': 219,\n",
              " 'Minas': 220,\n",
              " 'strategies': 221,\n",
              " 'Sisli': 222,\n",
              " 'pulls': 223,\n",
              " 'traitors': 224,\n",
              " 'seven-hour': 225,\n",
              " 'hire': 226,\n",
              " 'January': 227,\n",
              " 'unified': 228,\n",
              " '182': 229,\n",
              " 'Refineria': 230,\n",
              " 'mouse': 231,\n",
              " 'martinis': 232,\n",
              " 'Meles': 233,\n",
              " 'C.': 234,\n",
              " 'promoted': 235,\n",
              " 'corrected': 236,\n",
              " 'stretch': 237,\n",
              " 'possesses': 238,\n",
              " 'misunderstanding': 239,\n",
              " '2.11.37': 240,\n",
              " 'Ramallah': 241,\n",
              " 'Color': 242,\n",
              " 'dismayed': 243,\n",
              " 'wanting': 244,\n",
              " 'Esperon': 245,\n",
              " 'distinctive': 246,\n",
              " 'Inspectors': 247,\n",
              " 'inevitable': 248,\n",
              " 'fabricating': 249,\n",
              " 'Meantime': 250,\n",
              " 'KUBILIUS': 251,\n",
              " 'disruptive': 252,\n",
              " 'judgmental': 253,\n",
              " 'Dharamsala': 254,\n",
              " 'Politician': 255,\n",
              " '800-meter-wide': 256,\n",
              " 'appreciation': 257,\n",
              " 'Marburg': 258,\n",
              " 'Messi': 259,\n",
              " 'spokesmen': 260,\n",
              " 'drive-by': 261,\n",
              " 'contamination': 262,\n",
              " 'al-Sherif': 263,\n",
              " 'engaging': 264,\n",
              " 'Gauteng': 265,\n",
              " 'Bergner': 266,\n",
              " 'Investigations': 267,\n",
              " '3,72,000': 268,\n",
              " 'worship': 269,\n",
              " 'alleged': 270,\n",
              " 'drain': 271,\n",
              " 'Qatada': 272,\n",
              " 'Qasim': 273,\n",
              " 'flocking': 274,\n",
              " 'Apondi': 275,\n",
              " 'Lawyers': 276,\n",
              " 'songs': 277,\n",
              " 'harassing': 278,\n",
              " 'Parisi': 279,\n",
              " 'Olmert': 280,\n",
              " 'Amiin': 281,\n",
              " 'Al-Zawahiri': 282,\n",
              " 'Navka': 283,\n",
              " 'heaven': 284,\n",
              " 'laborers': 285,\n",
              " 'lately': 286,\n",
              " 'Mofaz': 287,\n",
              " 'mistreated': 288,\n",
              " 'viewed': 289,\n",
              " 'infiltrated': 290,\n",
              " 'retribution': 291,\n",
              " 'Gusmao': 292,\n",
              " 'permanent-status': 293,\n",
              " 'Shooting': 294,\n",
              " 'weakest': 295,\n",
              " 'rammed': 296,\n",
              " 'undercover': 297,\n",
              " '45.2': 298,\n",
              " 'Tuvalu': 299,\n",
              " 'accosted': 300,\n",
              " 'vent': 301,\n",
              " 'Abortion': 302,\n",
              " 'hierarchy': 303,\n",
              " '80-year-old': 304,\n",
              " '228': 305,\n",
              " 'right-wing': 306,\n",
              " 'Frenk': 307,\n",
              " 'desirous': 308,\n",
              " 'Dan': 309,\n",
              " 'addictive': 310,\n",
              " 'statute': 311,\n",
              " 'restoration': 312,\n",
              " 'Tishrin': 313,\n",
              " 'three-match': 314,\n",
              " 'century-old': 315,\n",
              " 'sedatives': 316,\n",
              " 'Linux-based': 317,\n",
              " 'Lance': 318,\n",
              " 'washed': 319,\n",
              " 'Wal-Marts': 320,\n",
              " 'citizens': 321,\n",
              " 'draining': 322,\n",
              " 'Conjwayo': 323,\n",
              " 'findings': 324,\n",
              " 'simple': 325,\n",
              " 'Areas': 326,\n",
              " 'son-in-law': 327,\n",
              " 'slowed': 328,\n",
              " 'Joaquin': 329,\n",
              " 'guarding': 330,\n",
              " 'unite': 331,\n",
              " '400': 332,\n",
              " 'Tupamaros': 333,\n",
              " 'GEO': 334,\n",
              " 'Goran': 335,\n",
              " 'spree': 336,\n",
              " 'prey': 337,\n",
              " 'post-war': 338,\n",
              " 'pointing': 339,\n",
              " '115.2': 340,\n",
              " 'maintains': 341,\n",
              " 'my': 342,\n",
              " 'Prizes': 343,\n",
              " 'Jesse': 344,\n",
              " 'spaghetti': 345,\n",
              " 'Carnegie': 346,\n",
              " 'Lindy': 347,\n",
              " 'Always': 348,\n",
              " 'arranging': 349,\n",
              " 'low-pressure': 350,\n",
              " 'ITV': 351,\n",
              " 'wine': 352,\n",
              " 'ordered': 353,\n",
              " 'suitcase': 354,\n",
              " 'quotes': 355,\n",
              " 'Brussels': 356,\n",
              " 'Paralympics': 357,\n",
              " 'demolitions': 358,\n",
              " 'unclaimed': 359,\n",
              " 'sufficiently': 360,\n",
              " 'upheld': 361,\n",
              " 'Contra': 362,\n",
              " 'Kofi': 363,\n",
              " 'Simatovic': 364,\n",
              " 'Joey': 365,\n",
              " 'connecting': 366,\n",
              " 'thanking': 367,\n",
              " 'Saints': 368,\n",
              " 'Dans': 369,\n",
              " 'idea': 370,\n",
              " 'Iran-Iraq': 371,\n",
              " 'Ajmal': 372,\n",
              " 'robber': 373,\n",
              " 'Abduction': 374,\n",
              " 'meant': 375,\n",
              " 'reimposed': 376,\n",
              " 'wallow': 377,\n",
              " 'championed': 378,\n",
              " 'reminder': 379,\n",
              " '13-year': 380,\n",
              " 'Repubblica': 381,\n",
              " 'most-widely': 382,\n",
              " 'Championships': 383,\n",
              " 'conniving': 384,\n",
              " 'gate': 385,\n",
              " 'canons': 386,\n",
              " '3.9': 387,\n",
              " 'wintry': 388,\n",
              " 'price-per-carat': 389,\n",
              " '07-May': 390,\n",
              " 'Nanking': 391,\n",
              " 'wounding': 392,\n",
              " 'Vanuatu': 393,\n",
              " 'Bratislava-Trnava': 394,\n",
              " 'desperate': 395,\n",
              " 'Nova': 396,\n",
              " 'el-Mallahi': 397,\n",
              " 'techniques': 398,\n",
              " 'Strait': 399,\n",
              " 'remembered': 400,\n",
              " '230': 401,\n",
              " '5,83,000': 402,\n",
              " 'Ivanic': 403,\n",
              " 'bluntly': 404,\n",
              " 'tarnished': 405,\n",
              " 'No.': 406,\n",
              " 'Cypriot': 407,\n",
              " 'walk': 408,\n",
              " 'Ohrid': 409,\n",
              " 'punishments': 410,\n",
              " 'Shanxi': 411,\n",
              " 'thrives': 412,\n",
              " 'Looking': 413,\n",
              " 'desolation': 414,\n",
              " 'fishermen': 415,\n",
              " 'high-priced': 416,\n",
              " 'Carl': 417,\n",
              " 'pond': 418,\n",
              " 'joke': 419,\n",
              " 'Gomez': 420,\n",
              " 'committee': 421,\n",
              " 'Silva': 422,\n",
              " 'committed': 423,\n",
              " 'serfdom': 424,\n",
              " 'dances': 425,\n",
              " 'bullet-ridden': 426,\n",
              " 'Dextre': 427,\n",
              " 'deplored': 428,\n",
              " 'Toward': 429,\n",
              " 'berth': 430,\n",
              " 'albeit': 431,\n",
              " 'wrap': 432,\n",
              " 'powder': 433,\n",
              " 'exacted': 434,\n",
              " 'assignments': 435,\n",
              " 'Hizb-ul-Mujahedeen': 436,\n",
              " 'longstanding': 437,\n",
              " 'multi-party': 438,\n",
              " 'RIA-Novosti': 439,\n",
              " 'gently': 440,\n",
              " 'model': 441,\n",
              " 'Authorization': 442,\n",
              " 'growled': 443,\n",
              " '38.68': 444,\n",
              " 'Wars': 445,\n",
              " 'Mirnyi': 446,\n",
              " '38-year': 447,\n",
              " 'possibilities': 448,\n",
              " 'descendants': 449,\n",
              " 'instructor': 450,\n",
              " 'Pro-Taleban': 451,\n",
              " 'hell': 452,\n",
              " 'Mathieu': 453,\n",
              " 'Arbor': 454,\n",
              " 'centrifuge': 455,\n",
              " 'fade': 456,\n",
              " 'Skelleftea': 457,\n",
              " 'detonated': 458,\n",
              " 'telling': 459,\n",
              " 'Peru': 460,\n",
              " 'U.N.-supervised': 461,\n",
              " 'gestures': 462,\n",
              " 'after-hours': 463,\n",
              " 'flaws': 464,\n",
              " 'abolished': 465,\n",
              " 'Murphy': 466,\n",
              " 'buyouts': 467,\n",
              " 'Ilham': 468,\n",
              " 'anticipation': 469,\n",
              " 'Mahee': 470,\n",
              " 'Weather-related': 471,\n",
              " 'primacy': 472,\n",
              " 'Non-Aligned': 473,\n",
              " 'fast-food': 474,\n",
              " 'Shenzhen': 475,\n",
              " 'self-inflicted': 476,\n",
              " 'Condoleeza': 477,\n",
              " 'narrowed': 478,\n",
              " 'months': 479,\n",
              " 'eliminated': 480,\n",
              " 'Pitcairn': 481,\n",
              " 'spotting': 482,\n",
              " 'photographers': 483,\n",
              " 'Concern': 484,\n",
              " '87th': 485,\n",
              " 'conventional': 486,\n",
              " 'Non-Proliferation': 487,\n",
              " 'counter-terrorism': 488,\n",
              " '1779': 489,\n",
              " 'Rada': 490,\n",
              " 'Yadana': 491,\n",
              " 'Stronach': 492,\n",
              " 'Guber': 493,\n",
              " 'ratify': 494,\n",
              " 'identification': 495,\n",
              " 'Compaore': 496,\n",
              " 'external': 497,\n",
              " \"'\": 498,\n",
              " 'Ben': 499,\n",
              " 'Hadassah': 500,\n",
              " 'Xian': 501,\n",
              " '16.7': 502,\n",
              " '4,000-year-old': 503,\n",
              " 'reunification': 504,\n",
              " 'Lao': 505,\n",
              " 'swapping': 506,\n",
              " 'Kuwaitis': 507,\n",
              " 'orbits': 508,\n",
              " 'product': 509,\n",
              " 'Rossi': 510,\n",
              " 'volatility': 511,\n",
              " 'encircled': 512,\n",
              " 'African': 513,\n",
              " 'neighbour': 514,\n",
              " 'Adhamiya': 515,\n",
              " 'He': 516,\n",
              " 'Abd-al-Nisr': 517,\n",
              " 'steam': 518,\n",
              " '9.5': 519,\n",
              " 'Min-soon': 520,\n",
              " 'Valery': 521,\n",
              " 'Wood': 522,\n",
              " 'well-to-do': 523,\n",
              " 'rooted': 524,\n",
              " 'passengers': 525,\n",
              " 'Cairo-based': 526,\n",
              " 'remaining': 527,\n",
              " 'thousands': 528,\n",
              " 'Ticona': 529,\n",
              " 'major': 530,\n",
              " 'Wemple': 531,\n",
              " 'club': 532,\n",
              " 'grower': 533,\n",
              " 'pope': 534,\n",
              " 'York': 535,\n",
              " 'mediated': 536,\n",
              " 'five': 537,\n",
              " 'Putin': 538,\n",
              " '04-Feb': 539,\n",
              " 'Taliban-linked': 540,\n",
              " 'strongmen': 541,\n",
              " 'scuffles': 542,\n",
              " 'journeyed': 543,\n",
              " 'Emile': 544,\n",
              " 'pathologically': 545,\n",
              " 'challenger': 546,\n",
              " 'pound': 547,\n",
              " 'gasping': 548,\n",
              " 'Zulima': 549,\n",
              " 'production': 550,\n",
              " 'high-profile': 551,\n",
              " 'Jerzy': 552,\n",
              " 'Initiatives': 553,\n",
              " 'Alliance': 554,\n",
              " 'ineffectively': 555,\n",
              " 'bury': 556,\n",
              " 'detonators': 557,\n",
              " 'Zaldivar': 558,\n",
              " 'prefer': 559,\n",
              " 'booed': 560,\n",
              " 'unaccounted': 561,\n",
              " 'manipulating': 562,\n",
              " 'Badaun': 563,\n",
              " 'retracted': 564,\n",
              " 'Char': 565,\n",
              " 'boosted': 566,\n",
              " '98,000': 567,\n",
              " 'bakery': 568,\n",
              " 'Hotel': 569,\n",
              " 'Clinton': 570,\n",
              " 'Bounty': 571,\n",
              " 'determined': 572,\n",
              " 'fragility': 573,\n",
              " '0.068263889': 574,\n",
              " 'Jiang': 575,\n",
              " 'Abbott': 576,\n",
              " 'articulated': 577,\n",
              " 'Outdoors': 578,\n",
              " 'distributors': 579,\n",
              " 'Paseo': 580,\n",
              " 'Arafat-allies': 581,\n",
              " 'unlikely': 582,\n",
              " 'assault': 583,\n",
              " 'derivative': 584,\n",
              " 'pack': 585,\n",
              " 'Silvan': 586,\n",
              " 'awards': 587,\n",
              " 'Ilam': 588,\n",
              " 'offices': 589,\n",
              " 'coastguard': 590,\n",
              " 'liters': 591,\n",
              " 'Revolution': 592,\n",
              " 'Standing': 593,\n",
              " 'protectionist': 594,\n",
              " 'Explosive': 595,\n",
              " 'winds': 596,\n",
              " '11-nation': 597,\n",
              " 'roughed': 598,\n",
              " \"Baku-T'bilisi-Erzerum\": 599,\n",
              " 'Interreligious': 600,\n",
              " 'German-owned': 601,\n",
              " 'gangs': 602,\n",
              " 'seizing': 603,\n",
              " 'phases': 604,\n",
              " 'Singer': 605,\n",
              " 'Patterson': 606,\n",
              " 'Spessart': 607,\n",
              " 'stint': 608,\n",
              " 'presidential': 609,\n",
              " 'Royal': 610,\n",
              " 'Pencils': 611,\n",
              " 'inter-Korean': 612,\n",
              " '40th': 613,\n",
              " 'notorious': 614,\n",
              " 'key': 615,\n",
              " 'Agu': 616,\n",
              " 'chimneys': 617,\n",
              " 'Safavi': 618,\n",
              " 'Adolfo': 619,\n",
              " 'Research': 620,\n",
              " 'Bartolomeo': 621,\n",
              " 'lacked': 622,\n",
              " 'Shaban': 623,\n",
              " 'earned': 624,\n",
              " 'paints': 625,\n",
              " 'EEBC': 626,\n",
              " 'IADB': 627,\n",
              " 'carbon': 628,\n",
              " 'Tsunami': 629,\n",
              " 'Kemal': 630,\n",
              " 'Matin': 631,\n",
              " 'McCarthy': 632,\n",
              " 'Sandhurst': 633,\n",
              " 'alerts': 634,\n",
              " 'plead': 635,\n",
              " 'vaccinations': 636,\n",
              " 'loosen': 637,\n",
              " 'hostage-taking': 638,\n",
              " 'Hua': 639,\n",
              " 'mainly': 640,\n",
              " 'voiced': 641,\n",
              " 'minister-designate': 642,\n",
              " 'retract': 643,\n",
              " 'Nyein': 644,\n",
              " 'daughters': 645,\n",
              " 'deminers': 646,\n",
              " 'awaited': 647,\n",
              " 'Massey': 648,\n",
              " 'liquid': 649,\n",
              " 'seriously': 650,\n",
              " 'Gaza-Egyptian': 651,\n",
              " 'Anatol': 652,\n",
              " 'crew': 653,\n",
              " 'post-civil': 654,\n",
              " 'complexion': 655,\n",
              " 'nuclear-powered': 656,\n",
              " 'currents': 657,\n",
              " 'jammed': 658,\n",
              " 'acknowledged': 659,\n",
              " 'swings': 660,\n",
              " 'believe': 661,\n",
              " 'Pentastar': 662,\n",
              " 'paired': 663,\n",
              " 'environmental': 664,\n",
              " 'Lynndie': 665,\n",
              " 'Brotherhood': 666,\n",
              " 'Third': 667,\n",
              " 'Safin': 668,\n",
              " '963': 669,\n",
              " 'transparency': 670,\n",
              " 'recapitalization': 671,\n",
              " 'Somchai': 672,\n",
              " 'softening': 673,\n",
              " 'posses': 674,\n",
              " 'conscripted': 675,\n",
              " 'Boyle': 676,\n",
              " 'boomed': 677,\n",
              " 'concerns': 678,\n",
              " 'forbids': 679,\n",
              " 'spades': 680,\n",
              " 'interviewer': 681,\n",
              " 'destined': 682,\n",
              " 'handover': 683,\n",
              " 'nest': 684,\n",
              " 'Gikoro': 685,\n",
              " 'Romania': 686,\n",
              " 'MAN': 687,\n",
              " 'state-sanctioned': 688,\n",
              " 'Papahanaumokuakea': 689,\n",
              " '1890': 690,\n",
              " 'alerting': 691,\n",
              " 'precedence': 692,\n",
              " 'sole': 693,\n",
              " 'Hood': 694,\n",
              " 'Win': 695,\n",
              " 'four-year-old': 696,\n",
              " 'Dacic': 697,\n",
              " 'inexpensive': 698,\n",
              " 'Filling': 699,\n",
              " 'somewhere': 700,\n",
              " 'formulas': 701,\n",
              " 'catapulted': 702,\n",
              " 'televised': 703,\n",
              " 'extractive': 704,\n",
              " 'much-needed': 705,\n",
              " 'Afghan-NATO': 706,\n",
              " 'Castle': 707,\n",
              " \"Sh'ite\": 708,\n",
              " 'Humanitarian': 709,\n",
              " 'flavinols': 710,\n",
              " 'Prudential': 711,\n",
              " 'Michuki': 712,\n",
              " 'Tshabalala-Msimang': 713,\n",
              " 'mid-20th': 714,\n",
              " 'win-loss': 715,\n",
              " 'sparse': 716,\n",
              " 'Aref': 717,\n",
              " 'Prasanna': 718,\n",
              " 'where': 719,\n",
              " 'cater': 720,\n",
              " 'Drugs': 721,\n",
              " 'miner': 722,\n",
              " 'Bollywood': 723,\n",
              " 'Found': 724,\n",
              " '61-year-old': 725,\n",
              " 'strictly': 726,\n",
              " 'pain': 727,\n",
              " 'Ashgabat': 728,\n",
              " 'certify': 729,\n",
              " 'apartheid': 730,\n",
              " 'Basij': 731,\n",
              " '7,600': 732,\n",
              " 'characterized': 733,\n",
              " 'Hong-Kong-based': 734,\n",
              " 'privatizations': 735,\n",
              " 'atrocious': 736,\n",
              " 'interethnic': 737,\n",
              " 'Kravchenko': 738,\n",
              " 'sincere': 739,\n",
              " 'Djibouti-Yemen': 740,\n",
              " 'Pavel': 741,\n",
              " 'Rodon': 742,\n",
              " 'Natonski': 743,\n",
              " 'Sidique': 744,\n",
              " 'definitely': 745,\n",
              " 'airfare': 746,\n",
              " 'deactivated': 747,\n",
              " 'centuries-old': 748,\n",
              " 'crossing': 749,\n",
              " 'Fischer': 750,\n",
              " 'low-lying': 751,\n",
              " 'suggested': 752,\n",
              " 'Al-Ghoul': 753,\n",
              " 'Oleksiy': 754,\n",
              " 'al-Qaida-affiliated': 755,\n",
              " '58,000': 756,\n",
              " 'surviving': 757,\n",
              " '10-point': 758,\n",
              " 'accreditation': 759,\n",
              " 'Kalam': 760,\n",
              " 'vexation': 761,\n",
              " 'insist': 762,\n",
              " 'sixth-seed': 763,\n",
              " 'UBT': 764,\n",
              " 'motions': 765,\n",
              " 'Jews': 766,\n",
              " 'depicting': 767,\n",
              " 'spawned': 768,\n",
              " 'A': 769,\n",
              " 'Zaheer': 770,\n",
              " 'painstakingly': 771,\n",
              " 'Arusha': 772,\n",
              " 'cholera': 773,\n",
              " 'Klammer': 774,\n",
              " 'booby': 775,\n",
              " 'Paulos': 776,\n",
              " 'Addis': 777,\n",
              " 'tin': 778,\n",
              " 'entourage': 779,\n",
              " 'archery': 780,\n",
              " 'Abdulhamid': 781,\n",
              " 'second-seeded': 782,\n",
              " 'physicians': 783,\n",
              " 'Summits': 784,\n",
              " 'hovers': 785,\n",
              " 'channels': 786,\n",
              " 'Protest': 787,\n",
              " '275-members': 788,\n",
              " 'Akmatbayev': 789,\n",
              " 'TAC': 790,\n",
              " 'veto': 791,\n",
              " 'uneven': 792,\n",
              " 'Album': 793,\n",
              " 'civilian-led': 794,\n",
              " 'equivalent': 795,\n",
              " 'trunks': 796,\n",
              " 'infected': 797,\n",
              " '7.5': 798,\n",
              " 'sunny': 799,\n",
              " 'Z': 800,\n",
              " 're-invest': 801,\n",
              " 'smuggle': 802,\n",
              " 'Endeavouris': 803,\n",
              " 'saturated': 804,\n",
              " 'Unity': 805,\n",
              " 'witnessed': 806,\n",
              " 'half-brother': 807,\n",
              " 'rebounded': 808,\n",
              " 'evicted': 809,\n",
              " 'escorted': 810,\n",
              " 'reservists': 811,\n",
              " 'adviser': 812,\n",
              " 'Tal': 813,\n",
              " 'Shegag': 814,\n",
              " 'Tekle': 815,\n",
              " 'painted': 816,\n",
              " 'Hanjiang': 817,\n",
              " 'Titled': 818,\n",
              " 'Manshiyet': 819,\n",
              " 'Chiang': 820,\n",
              " 'Neverland': 821,\n",
              " 'Mahmood': 822,\n",
              " 'Gucht': 823,\n",
              " 'Nkosazana': 824,\n",
              " 'al-Mashhadani': 825,\n",
              " 'Milososki': 826,\n",
              " 'Sarajevo-based': 827,\n",
              " 'al-Uthmani': 828,\n",
              " 'jeweler': 829,\n",
              " 'irreconcilable': 830,\n",
              " 'Houghton': 831,\n",
              " 'Machage': 832,\n",
              " 'snatched': 833,\n",
              " 'Mehlis': 834,\n",
              " 'interreligious': 835,\n",
              " 'Religious': 836,\n",
              " 'Sara': 837,\n",
              " 'Mood': 838,\n",
              " 'Berkofsky': 839,\n",
              " 'Bartholomew': 840,\n",
              " 'avoid': 841,\n",
              " 'three-way': 842,\n",
              " 'Julie': 843,\n",
              " 'Wali': 844,\n",
              " 'Supply': 845,\n",
              " 'dates': 846,\n",
              " 'chaos': 847,\n",
              " 'diligently': 848,\n",
              " 'Q.': 849,\n",
              " 'Adnan': 850,\n",
              " 'barrage': 851,\n",
              " 'weaponization': 852,\n",
              " 'Jennings': 853,\n",
              " 'Khel': 854,\n",
              " 'diabetes': 855,\n",
              " 'slowdown': 856,\n",
              " 'Island': 857,\n",
              " 'Bosnian': 858,\n",
              " 'shortwave': 859,\n",
              " 'plagues': 860,\n",
              " 'Chadians': 861,\n",
              " 'Mauricio': 862,\n",
              " 'GUELLEH': 863,\n",
              " 'FOWLER': 864,\n",
              " 'immobilized': 865,\n",
              " 'reestablishing': 866,\n",
              " 'KING': 867,\n",
              " 'deliberate': 868,\n",
              " 'Parma': 869,\n",
              " '35,000': 870,\n",
              " 'al-Zarqwai': 871,\n",
              " 'Post-ABC': 872,\n",
              " 'CSE': 873,\n",
              " 'registry': 874,\n",
              " 'fingerprint': 875,\n",
              " 'confident': 876,\n",
              " 'pledge': 877,\n",
              " 'elementary': 878,\n",
              " '169.9': 879,\n",
              " 'African-American': 880,\n",
              " 'Narathiwat': 881,\n",
              " 'Chepas': 882,\n",
              " 'bearing': 883,\n",
              " 'shifting': 884,\n",
              " 'assented': 885,\n",
              " 'Kerem': 886,\n",
              " 'who': 887,\n",
              " 'refrained': 888,\n",
              " '0.1': 889,\n",
              " 'Berruti': 890,\n",
              " 'reflects': 891,\n",
              " 'liberties': 892,\n",
              " 'meshes': 893,\n",
              " 'Premier': 894,\n",
              " 'Sgorbati': 895,\n",
              " 'Triple': 896,\n",
              " 'ZUMA': 897,\n",
              " 'war-damaged': 898,\n",
              " 'compatriot': 899,\n",
              " 'denouncing': 900,\n",
              " 'semifinal': 901,\n",
              " 'phased': 902,\n",
              " 'solicit': 903,\n",
              " 'unfit': 904,\n",
              " 'al-Nabaie': 905,\n",
              " 'olive-green': 906,\n",
              " 'Jabor': 907,\n",
              " 'non-aggression': 908,\n",
              " 'duped': 909,\n",
              " 'Anil': 910,\n",
              " 'Tursunov': 911,\n",
              " 'anti-malaria': 912,\n",
              " 'coordination': 913,\n",
              " 'Koblenz': 914,\n",
              " 'poet': 915,\n",
              " 'sample': 916,\n",
              " 'Map': 917,\n",
              " 'second-fastest': 918,\n",
              " 'Photos': 919,\n",
              " 'Patricia': 920,\n",
              " 'off-budget': 921,\n",
              " 'pro-independence': 922,\n",
              " 'surety': 923,\n",
              " 'Rubber': 924,\n",
              " 'Bosch': 925,\n",
              " 'Cerda': 926,\n",
              " '170-meter': 927,\n",
              " 'reaching': 928,\n",
              " 'singing': 929,\n",
              " 'Reconnaissance': 930,\n",
              " 'Huygens': 931,\n",
              " 'invasions': 932,\n",
              " 'Regev': 933,\n",
              " 'Tajik': 934,\n",
              " 'signing': 935,\n",
              " 'Researchers': 936,\n",
              " 'intrusion': 937,\n",
              " 'Panggabean': 938,\n",
              " 'three-thousand': 939,\n",
              " 'privilege': 940,\n",
              " 'joyful': 941,\n",
              " '1725': 942,\n",
              " 'Twenty-seven': 943,\n",
              " 'renewal': 944,\n",
              " 'Kane': 945,\n",
              " 'Bunji': 946,\n",
              " 'thanked': 947,\n",
              " 'enlargement': 948,\n",
              " 'Abia': 949,\n",
              " 'anti-China': 950,\n",
              " 'flagon': 951,\n",
              " 'relinquish': 952,\n",
              " 'Wagah': 953,\n",
              " 'Botanical': 954,\n",
              " 'military-ruled': 955,\n",
              " 'Shek': 956,\n",
              " 'barcoded': 957,\n",
              " 'three-decade': 958,\n",
              " 'excessive': 959,\n",
              " 'LUKASHENKO': 960,\n",
              " 'Dominik': 961,\n",
              " 'Solovtsov': 962,\n",
              " 'unemployed': 963,\n",
              " 'Soaring': 964,\n",
              " 'arrest': 965,\n",
              " 'Wakil': 966,\n",
              " 'five-star': 967,\n",
              " 'boasting': 968,\n",
              " 'governor': 969,\n",
              " 'bigots': 970,\n",
              " 'Guenter': 971,\n",
              " 'Gnassingbe': 972,\n",
              " 'Shali': 973,\n",
              " 'priesthood': 974,\n",
              " 'Transparency': 975,\n",
              " 'Biotechnology': 976,\n",
              " 'Najjar': 977,\n",
              " 'dilute': 978,\n",
              " 'FAMISHING': 979,\n",
              " 'Foods': 980,\n",
              " 'caverns': 981,\n",
              " 'grin': 982,\n",
              " 'transmitting': 983,\n",
              " 'workshops': 984,\n",
              " 'Lage': 985,\n",
              " 'pizza': 986,\n",
              " 'smog': 987,\n",
              " 'Kandahar': 988,\n",
              " 'shipping': 989,\n",
              " 'Corazon': 990,\n",
              " 'six-and-a-half': 991,\n",
              " 'Aigle': 992,\n",
              " 'IRIN': 993,\n",
              " 'posts': 994,\n",
              " 'incinerated': 995,\n",
              " 'Person': 996,\n",
              " 'greedy': 997,\n",
              " 'Jawad': 998,\n",
              " 'Protestants': 999,\n",
              " 'posing': 1000,\n",
              " ...}"
            ]
          },
          "metadata": {},
          "execution_count": 14
        }
      ],
      "source": [
        "word2idx"
      ]
    },
    {
      "cell_type": "code",
      "execution_count": null,
      "metadata": {
        "colab": {
          "base_uri": "https://localhost:8080/"
        },
        "id": "nAdFrwSvHCnt",
        "outputId": "d0a28626-30e3-4442-e737-a5be73d34170"
      },
      "outputs": [
        {
          "output_type": "execute_result",
          "data": {
            "text/plain": [
              "{'B-per': 0,\n",
              " 'B-art': 1,\n",
              " 'B-eve': 2,\n",
              " 'B-gpe': 3,\n",
              " 'O': 4,\n",
              " 'I-eve': 5,\n",
              " 'B-tim': 6,\n",
              " 'B-geo': 7,\n",
              " 'B-nat': 8,\n",
              " 'I-tim': 9,\n",
              " 'I-per': 10,\n",
              " 'I-gpe': 11,\n",
              " 'I-nat': 12,\n",
              " 'I-geo': 13,\n",
              " 'I-org': 14,\n",
              " 'I-art': 15,\n",
              " 'B-org': 16}"
            ]
          },
          "metadata": {},
          "execution_count": 15
        }
      ],
      "source": [
        "tag2idx"
      ]
    },
    {
      "cell_type": "code",
      "execution_count": null,
      "metadata": {
        "colab": {
          "base_uri": "https://localhost:8080/",
          "height": 265
        },
        "id": "we2ucUMp1sr9",
        "outputId": "75348e31-aa7d-469f-a07b-8767dc0b099b"
      },
      "outputs": [
        {
          "output_type": "display_data",
          "data": {
            "text/plain": [
              "<Figure size 432x288 with 1 Axes>"
            ],
            "image/png": "[encoded data removed]"
          },
          "metadata": {}
        }
      ],
      "source": [
        "plt.hist([len(s) for s in sentences], bins=50)\n",
        "plt.show()"
      ]
    },
    {
      "cell_type": "code",
      "execution_count": null,
      "metadata": {
        "id": "e_n_duf-1wIX"
      },
      "outputs": [],
      "source": [
        "from tensorflow.keras.preprocessing.sequence import pad_sequences\n",
        "\n",
        "max_len = 50\n",
        "\n",
        "X = [[word2idx[w[0]] for w in s] for s in sentences]\n",
        "X = pad_sequences(maxlen=max_len, sequences=X, padding=\"post\", value=num_words-1)\n",
        "\n",
        "y = [[tag2idx[w[2]] for w in s] for s in sentences]\n",
        "y = pad_sequences(maxlen=max_len, sequences=y, padding=\"post\", value=tag2idx[\"O\"])"
      ]
    },
    {
      "cell_type": "code",
      "execution_count": null,
      "metadata": {
        "id": "ebPIzC5f1zem"
      },
      "outputs": [],
      "source": [
        "from sklearn.model_selection import train_test_split\n",
        "x_train, x_test, y_train, y_test = train_test_split(X, y, test_size=0.2, random_state=1)"
      ]
    },
    {
      "cell_type": "code",
      "execution_count": null,
      "metadata": {
        "id": "_rCf5en6128Y"
      },
      "outputs": [],
      "source": [
        "from tensorflow.keras import Model, Input\n",
        "from tensorflow.keras.layers import LSTM, Embedding, Dense\n",
        "from tensorflow.keras.layers import TimeDistributed, SpatialDropout1D, Bidirectional"
      ]
    },
    {
      "cell_type": "code",
      "execution_count": null,
      "metadata": {
        "colab": {
          "base_uri": "https://localhost:8080/"
        },
        "id": "9J5QxBqE2RIy",
        "outputId": "173d357d-0934-48d1-9abd-89f5b900cd03"
      },
      "outputs": [
        {
          "output_type": "stream",
          "name": "stdout",
          "text": [
            "Model: \"model\"\n",
            "_________________________________________________________________\n",
            " Layer (type)                Output Shape              Param #   \n",
            "=================================================================\n",
            " input_1 (InputLayer)        [(None, 50)]              0         \n",
            "                                                                 \n",
            " embedding (Embedding)       (None, 50, 50)            1758950   \n",
            "                                                                 \n",
            " spatial_dropout1d (SpatialD  (None, 50, 50)           0         \n",
            " ropout1D)                                                       \n",
            "                                                                 \n",
            " bidirectional (Bidirectiona  (None, 50, 200)          120800    \n",
            " l)                                                              \n",
            "                                                                 \n",
            " time_distributed (TimeDistr  (None, 50, 17)           3417      \n",
            " ibuted)                                                         \n",
            "                                                                 \n",
            "=================================================================\n",
            "Total params: 1,883,167\n",
            "Trainable params: 1,883,167\n",
            "Non-trainable params: 0\n",
            "_________________________________________________________________\n"
          ]
        }
      ],
      "source": [
        "input_word = Input(shape=(max_len,))\n",
        "model = Embedding(input_dim=num_words, output_dim=50, input_length=max_len)(input_word)\n",
        "model = SpatialDropout1D(0.1)(model)\n",
        "model = Bidirectional(LSTM(units=100, return_sequences=True, recurrent_dropout=0.1))(model)\n",
        "out = TimeDistributed(Dense(num_tags, activation=\"softmax\"))(model)\n",
        "model = Model(input_word, out)\n",
        "model.summary()"
      ]
    },
    {
      "cell_type": "code",
      "execution_count": null,
      "metadata": {
        "id": "bc1xun4_2U4H"
      },
      "outputs": [],
      "source": [
        "model.compile(optimizer=\"adam\",\n",
        "              loss=\"sparse_categorical_crossentropy\",\n",
        "              metrics=[\"accuracy\"])"
      ]
    },
    {
      "cell_type": "code",
      "execution_count": null,
      "metadata": {
        "colab": {
          "base_uri": "https://localhost:8080/"
        },
        "id": "Y4r3h1Me2l1V",
        "outputId": "5867a356-cfb3-4082-cbf1-3695e102054c"
      },
      "outputs": [
        {
          "output_type": "stream",
          "name": "stdout",
          "text": [
            "Looking in indexes: https://pypi.org/simple, https://us-python.pkg.dev/colab-wheels/public/simple/\n",
            "Collecting livelossplot\n",
            "  Downloading livelossplot-0.5.5-py3-none-any.whl (22 kB)\n",
            "Requirement already satisfied: ipython==7.* in /usr/local/lib/python3.7/dist-packages (from livelossplot) (7.9.0)\n",
            "Requirement already satisfied: matplotlib in /usr/local/lib/python3.7/dist-packages (from livelossplot) (3.2.2)\n",
            "Requirement already satisfied: bokeh in /usr/local/lib/python3.7/dist-packages (from livelossplot) (2.3.3)\n",
            "Requirement already satisfied: numpy<1.22 in /usr/local/lib/python3.7/dist-packages (from livelossplot) (1.21.6)\n",
            "Requirement already satisfied: traitlets>=4.2 in /usr/local/lib/python3.7/dist-packages (from ipython==7.*->livelossplot) (5.1.1)\n",
            "Requirement already satisfied: prompt-toolkit<2.1.0,>=2.0.0 in /usr/local/lib/python3.7/dist-packages (from ipython==7.*->livelossplot) (2.0.10)\n",
            "Requirement already satisfied: backcall in /usr/local/lib/python3.7/dist-packages (from ipython==7.*->livelossplot) (0.2.0)\n",
            "Collecting jedi>=0.10\n",
            "  Downloading jedi-0.18.1-py2.py3-none-any.whl (1.6 MB)\n",
            "\u001b[K     |████████████████████████████████| 1.6 MB 11.4 MB/s \n",
            "\u001b[?25hRequirement already satisfied: pexpect in /usr/local/lib/python3.7/dist-packages (from ipython==7.*->livelossplot) (4.8.0)\n",
            "Requirement already satisfied: decorator in /usr/local/lib/python3.7/dist-packages (from ipython==7.*->livelossplot) (4.4.2)\n",
            "Requirement already satisfied: pygments in /usr/local/lib/python3.7/dist-packages (from ipython==7.*->livelossplot) (2.6.1)\n",
            "Requirement already satisfied: pickleshare in /usr/local/lib/python3.7/dist-packages (from ipython==7.*->livelossplot) (0.7.5)\n",
            "Requirement already satisfied: setuptools>=18.5 in /usr/local/lib/python3.7/dist-packages (from ipython==7.*->livelossplot) (57.4.0)\n",
            "Requirement already satisfied: parso<0.9.0,>=0.8.0 in /usr/local/lib/python3.7/dist-packages (from jedi>=0.10->ipython==7.*->livelossplot) (0.8.3)\n",
            "Requirement already satisfied: six>=1.9.0 in /usr/local/lib/python3.7/dist-packages (from prompt-toolkit<2.1.0,>=2.0.0->ipython==7.*->livelossplot) (1.15.0)\n",
            "Requirement already satisfied: wcwidth in /usr/local/lib/python3.7/dist-packages (from prompt-toolkit<2.1.0,>=2.0.0->ipython==7.*->livelossplot) (0.2.5)\n",
            "Requirement already satisfied: Jinja2>=2.9 in /usr/local/lib/python3.7/dist-packages (from bokeh->livelossplot) (2.11.3)\n",
            "Requirement already satisfied: PyYAML>=3.10 in /usr/local/lib/python3.7/dist-packages (from bokeh->livelossplot) (6.0)\n",
            "Requirement already satisfied: typing-extensions>=3.7.4 in /usr/local/lib/python3.7/dist-packages (from bokeh->livelossplot) (4.1.1)\n",
            "Requirement already satisfied: python-dateutil>=2.1 in /usr/local/lib/python3.7/dist-packages (from bokeh->livelossplot) (2.8.2)\n",
            "Requirement already satisfied: packaging>=16.8 in /usr/local/lib/python3.7/dist-packages (from bokeh->livelossplot) (21.3)\n",
            "Requirement already satisfied: tornado>=5.1 in /usr/local/lib/python3.7/dist-packages (from bokeh->livelossplot) (5.1.1)\n",
            "Requirement already satisfied: pillow>=7.1.0 in /usr/local/lib/python3.7/dist-packages (from bokeh->livelossplot) (7.1.2)\n",
            "Requirement already satisfied: MarkupSafe>=0.23 in /usr/local/lib/python3.7/dist-packages (from Jinja2>=2.9->bokeh->livelossplot) (2.0.1)\n",
            "Requirement already satisfied: pyparsing!=3.0.5,>=2.0.2 in /usr/local/lib/python3.7/dist-packages (from packaging>=16.8->bokeh->livelossplot) (3.0.9)\n",
            "Requirement already satisfied: cycler>=0.10 in /usr/local/lib/python3.7/dist-packages (from matplotlib->livelossplot) (0.11.0)\n",
            "Requirement already satisfied: kiwisolver>=1.0.1 in /usr/local/lib/python3.7/dist-packages (from matplotlib->livelossplot) (1.4.4)\n",
            "Requirement already satisfied: ptyprocess>=0.5 in /usr/local/lib/python3.7/dist-packages (from pexpect->ipython==7.*->livelossplot) (0.7.0)\n",
            "Installing collected packages: jedi, livelossplot\n",
            "Successfully installed jedi-0.18.1 livelossplot-0.5.5\n"
          ]
        }
      ],
      "source": [
        "!pip install livelossplot"
      ]
    },
    {
      "cell_type": "code",
      "execution_count": null,
      "metadata": {
        "id": "FmjulvxcjMz4"
      },
      "outputs": [],
      "source": []
    },
    {
      "cell_type": "code",
      "execution_count": null,
      "metadata": {
        "id": "xnbPP7fM2ZWl"
      },
      "outputs": [],
      "source": [
        "from tensorflow.keras.callbacks import ModelCheckpoint, EarlyStopping\n",
        "from livelossplot.tf_keras import PlotLossesCallback\n",
        "import gc\n",
        "gc.collect(),gc.collect()\n",
        "from livelossplot import PlotLossesKeras\n",
        "import keras\n",
        "from keras.models import load_model"
      ]
    },
    {
      "cell_type": "code",
      "execution_count": null,
      "metadata": {
        "colab": {
          "base_uri": "https://localhost:8080/",
          "height": 796
        },
        "id": "HccnTTHa2bqE",
        "outputId": "9db7720d-5a75-41c4-a05c-c4357bc343c6"
      },
      "outputs": [
        {
          "output_type": "display_data",
          "data": {
            "text/plain": [
              "<Figure size 864x576 with 2 Axes>"
            ],
            "image/png": "[encoded data removed]"
          },
          "metadata": {}
        },
        {
          "output_type": "stream",
          "name": "stdout",
          "text": [
            "accuracy\n",
            "\ttraining         \t (min:    0.959, max:    0.989, cur:    0.989)\n",
            "\tvalidation       \t (min:    0.981, max:    0.986, cur:    0.986)\n",
            "Loss\n",
            "\ttraining         \t (min:    0.037, max:    0.178, cur:    0.037)\n",
            "\tvalidation       \t (min:    0.048, max:    0.066, cur:    0.048)\n",
            "\n",
            "Epoch 3: val_loss improved from 0.05130 to 0.04776, saving model to model_weights.h5\n",
            "1199/1199 [==============================] - 258s 215ms/step - loss: 0.0371 - accuracy: 0.9885 - val_loss: 0.0478 - val_accuracy: 0.9857\n",
            "CPU times: user 23min 8s, sys: 44.6 s, total: 23min 53s\n",
            "Wall time: 13min 26s\n"
          ]
        }
      ],
      "source": [
        "%%time\n",
        "\n",
        "chkpt = ModelCheckpoint(\"model_weights.h5\", monitor='val_loss',verbose=1, save_best_only=True, save_weights_only=True, mode='min')\n",
        "\n",
        "early_stopping = EarlyStopping(monitor='val_accuracy', min_delta=0, patience=1, verbose=0, mode='max', baseline=None, restore_best_weights=False)\n",
        "\n",
        "callbacks = [PlotLossesCallback(), chkpt, early_stopping]\n",
        "\n",
        "history = model.fit(\n",
        "    x=x_train,\n",
        "    y=y_train,\n",
        "    validation_data=(x_test,y_test),\n",
        "    batch_size=32, \n",
        "    epochs=3,\n",
        "    callbacks=callbacks,\n",
        "    verbose=1\n",
        ")"
      ]
    },
    {
      "cell_type": "code",
      "execution_count": null,
      "metadata": {
        "colab": {
          "base_uri": "https://localhost:8080/"
        },
        "id": "jslVlqql3joD",
        "outputId": "80b10df8-a55d-4649-8235-cfb650dd5b85"
      },
      "outputs": [
        {
          "output_type": "stream",
          "name": "stdout",
          "text": [
            "300/300 [==============================] - 9s 30ms/step - loss: 0.0478 - accuracy: 0.9857\n"
          ]
        },
        {
          "output_type": "execute_result",
          "data": {
            "text/plain": [
              "[0.04775892570614815, 0.9856547117233276]"
            ]
          },
          "metadata": {},
          "execution_count": 27
        }
      ],
      "source": [
        "model.evaluate(x_test, np.array(y_test))"
      ]
    },
    {
      "cell_type": "code",
      "execution_count": null,
      "metadata": {
        "id": "a86LaJYhIysz"
      },
      "outputs": [],
      "source": [
        "pred=model.predict(x_test)"
      ]
    },
    {
      "cell_type": "code",
      "execution_count": null,
      "metadata": {
        "colab": {
          "base_uri": "https://localhost:8080/"
        },
        "id": "k1wMWTAy2dx2",
        "outputId": "55058fd2-31e8-4dc6-ca57-bca6ad7aa10c"
      },
      "outputs": [
        {
          "output_type": "stream",
          "name": "stdout",
          "text": [
            "Word           True \t Pred\n",
            "\n",
            "------------------------------\n",
            "The            O\tO\n",
            "United         B-geo\tB-geo\n",
            "States         I-geo\tI-geo\n",
            "has            O\tO\n",
            "103            O\tO\n",
            "nuclear        O\tO\n",
            "power          O\tO\n",
            "plants         O\tO\n",
            "in             O\tO\n",
            "31             O\tB-tim\n",
            "states         O\tO\n",
            ".              O\tO\n",
            "Nobel-Prize    O\tO\n",
            "Nobel-Prize    O\tO\n",
            "Nobel-Prize    O\tO\n",
            "Nobel-Prize    O\tO\n",
            "Nobel-Prize    O\tO\n",
            "Nobel-Prize    O\tO\n",
            "Nobel-Prize    O\tO\n",
            "Nobel-Prize    O\tO\n",
            "Nobel-Prize    O\tO\n",
            "Nobel-Prize    O\tO\n",
            "Nobel-Prize    O\tO\n",
            "Nobel-Prize    O\tO\n",
            "Nobel-Prize    O\tO\n",
            "Nobel-Prize    O\tO\n",
            "Nobel-Prize    O\tO\n",
            "Nobel-Prize    O\tO\n",
            "Nobel-Prize    O\tO\n",
            "Nobel-Prize    O\tO\n",
            "Nobel-Prize    O\tO\n",
            "Nobel-Prize    O\tO\n",
            "Nobel-Prize    O\tO\n",
            "Nobel-Prize    O\tO\n",
            "Nobel-Prize    O\tO\n",
            "Nobel-Prize    O\tO\n",
            "Nobel-Prize    O\tO\n",
            "Nobel-Prize    O\tO\n",
            "Nobel-Prize    O\tO\n",
            "Nobel-Prize    O\tO\n",
            "Nobel-Prize    O\tO\n",
            "Nobel-Prize    O\tO\n",
            "Nobel-Prize    O\tO\n",
            "Nobel-Prize    O\tO\n",
            "Nobel-Prize    O\tO\n",
            "Nobel-Prize    O\tO\n",
            "Nobel-Prize    O\tO\n",
            "Nobel-Prize    O\tO\n",
            "Nobel-Prize    O\tO\n",
            "Nobel-Prize    O\tO\n"
          ]
        }
      ],
      "source": [
        "i = np.random.randint(0, x_test.shape[0]) #659\n",
        "p = model.predict(np.array([x_test[i]]))\n",
        "p = np.argmax(p, axis=-1)\n",
        "y_true = y_test[i]\n",
        "print(\"{:15}{:5}\\t {}\\n\".format(\"Word\", \"True\", \"Pred\"))\n",
        "print(\"-\" *30)\n",
        "for w, true, pred in zip(x_test[i], y_true, p[0]):\n",
        "    print(\"{:15}{}\\t{}\".format(words[w-1], tags[true], tags[pred]))\n",
        "    #idx += 1\n",
        "    #if idx == 15:\n",
        "      #break"
      ]
    },
    {
      "cell_type": "code",
      "execution_count": null,
      "metadata": {
        "id": "JBTm380ejbP5"
      },
      "outputs": [],
      "source": [
        "model.save('/content/drive/MyDrive/nameentity.h5')"
      ]
    },
    {
      "cell_type": "code",
      "execution_count": null,
      "metadata": {
        "id": "Yc-JGVC0TkLa"
      },
      "outputs": [],
      "source": [
        "def text_process(text):\n",
        "    seq = []\n",
        "    for w in text.split():\n",
        "        try:\n",
        "            seq.append(word2idx[w])\n",
        "        except:\n",
        "            seq.append(num_words-1)\n",
        "\n",
        "    sz = len(seq)\n",
        "    # print(seq)\n",
        "    for _ in range(sz, 50):\n",
        "        seq.append(num_words-1)\n",
        "    seq = np.array(seq, dtype=int)\n",
        "    return seq, sz"
      ]
    },
    {
      "cell_type": "code",
      "execution_count": null,
      "metadata": {
        "id": "9_mCfZWh4LjL"
      },
      "outputs": [],
      "source": [
        "def get_ner(text):\n",
        "    seq, sz = text_process(text)\n",
        "    \n",
        "    p = model.predict(np.array([seq]))\n",
        "    p = np.argmax(p, axis=-1)\n",
        "\n",
        "    idx = 0\n",
        "    for w, pred in zip(seq, p[0]):\n",
        "        if tags[pred] != 'O':\n",
        "            print(\"{:15}\\t{}\".format(words[w-1], tags[pred]))\n",
        "        idx += 1\n",
        "        if idx == sz:\n",
        "            break"
      ]
    },
    {
      "cell_type": "code",
      "execution_count": null,
      "metadata": {
        "colab": {
          "base_uri": "https://localhost:8080/"
        },
        "id": "I7aX3BX-WK8n",
        "outputId": "09c945c8-d6ec-4619-f043-9d42696a35af"
      },
      "outputs": [
        {
          "output_type": "stream",
          "name": "stdout",
          "text": [
            "Albert         \tB-per\n"
          ]
        }
      ],
      "source": [
        "get_ner('Albert Einstein dünyanın gelmiş geçmiş en iyi fizikçilerindendir.')"
      ]
    },
    {
      "cell_type": "code",
      "execution_count": null,
      "metadata": {
        "id": "WS3MRLDAcnP1"
      },
      "outputs": [],
      "source": [
        "get_ner('Grammy ödülleri Fransa Devlet Başkanı tarafından verildi.')"
      ]
    },
    {
      "cell_type": "code",
      "execution_count": null,
      "metadata": {
        "id": "F1-N8uDJdifQ"
      },
      "outputs": [],
      "source": [
        "get_ner('Futbolda dünya kupası Brezilyanın oldu.')"
      ]
    },
    {
      "cell_type": "code",
      "execution_count": null,
      "metadata": {
        "id": "yTp_ZVeFmsiM"
      },
      "outputs": [],
      "source": [
        "get_ner('Türkiye Büyük Millet Meclisi')"
      ]
    },
    {
      "cell_type": "code",
      "execution_count": null,
      "metadata": {
        "colab": {
          "base_uri": "https://localhost:8080/"
        },
        "id": "6G9J9ExJkAeW",
        "outputId": "e700251d-6d06-4615-febc-b38789a69a43"
      },
      "outputs": [
        {
          "output_type": "stream",
          "name": "stdout",
          "text": [
            "Drive already mounted at /content/drive; to attempt to forcibly remount, call drive.mount(\"/content/drive\", force_remount=True).\n"
          ]
        }
      ],
      "source": [
        "from google.colab import drive\n",
        "drive.mount('/content/drive')"
      ]
    },
    {
      "cell_type": "code",
      "execution_count": null,
      "metadata": {
        "colab": {
          "base_uri": "https://localhost:8080/"
        },
        "id": "1l9Hj06GnOUz",
        "outputId": "f8ba27d6-9fd6-4ada-b11f-3ceab54cd0cd"
      },
      "outputs": [
        {
          "output_type": "stream",
          "name": "stdout",
          "text": [
            "Max val_acc achieved: 98.57 %\n",
            "Max acc achieved: 98.85 %\n"
          ]
        }
      ],
      "source": [
        "print('Max val_acc achieved: %.2f' %(max(history.history['val_accuracy'])*100), '%')\n",
        "print('Max acc achieved: %.2f' %(max(history.history['accuracy'])*100), '%')"
      ]
    },
    {
      "cell_type": "code",
      "execution_count": null,
      "metadata": {
        "colab": {
          "base_uri": "https://localhost:8080/"
        },
        "id": "Xqb1TsV4na3U",
        "outputId": "5c8f589f-26a0-4f1b-c973-21d7c0218934"
      },
      "outputs": [
        {
          "output_type": "stream",
          "name": "stdout",
          "text": [
            "Final val_acc achieved: 98.57 %\n",
            "Final acc achieved: 98.85 %\n"
          ]
        }
      ],
      "source": [
        "print('Final val_acc achieved: %.2f' %(history.history['val_accuracy'][-1]*100), '%')\n",
        "print('Final acc achieved: %.2f' %(history.history['accuracy'][-1]*100), '%')"
      ]
    },
    {
      "cell_type": "code",
      "execution_count": null,
      "metadata": {
        "colab": {
          "base_uri": "https://localhost:8080/"
        },
        "id": "vZTV31pXnelv",
        "outputId": "d8630715-3d77-49c5-8948-8e0c1ccfa7d0"
      },
      "outputs": [
        {
          "output_type": "stream",
          "name": "stdout",
          "text": [
            "\n",
            "Mean of validation accuracy: 98.38%\n"
          ]
        }
      ],
      "source": [
        "val_accuracy = np.mean(history.history['val_accuracy'])\n",
        "print(\"\\n%s: %.2f%%\" % ('Mean of validation accuracy', val_accuracy*100))"
      ]
    },
    {
      "cell_type": "code",
      "execution_count": null,
      "metadata": {
        "colab": {
          "base_uri": "https://localhost:8080/"
        },
        "id": "sQvaP2g4ng9a",
        "outputId": "5959733d-a7b4-4ef8-bbba-61f07f3ecb4d"
      },
      "outputs": [
        {
          "output_type": "execute_result",
          "data": {
            "text/plain": [
              "(None, 50)"
            ]
          },
          "metadata": {},
          "execution_count": 41
        }
      ],
      "source": [
        "model.input_shape"
      ]
    },
    {
      "cell_type": "code",
      "execution_count": null,
      "metadata": {
        "id": "gRJOvP6ynjXi"
      },
      "outputs": [],
      "source": [
        "y_pred = model.predict(x_test)"
      ]
    },
    {
      "cell_type": "code",
      "execution_count": null,
      "metadata": {
        "colab": {
          "base_uri": "https://localhost:8080/"
        },
        "id": "a1nDmnMpnmD2",
        "outputId": "cb03c951-9c50-45ef-e105-480519690ded"
      },
      "outputs": [
        {
          "output_type": "execute_result",
          "data": {
            "text/plain": [
              "array([[[False, False, False, ..., False, False, False],\n",
              "        [False, False, False, ..., False, False, False],\n",
              "        [False, False, False, ..., False, False, False],\n",
              "        ...,\n",
              "        [False, False, False, ..., False, False, False],\n",
              "        [False, False, False, ..., False, False, False],\n",
              "        [False, False, False, ..., False, False, False]],\n",
              "\n",
              "       [[False, False, False, ..., False, False, False],\n",
              "        [False, False, False, ..., False, False, False],\n",
              "        [False, False, False, ..., False, False, False],\n",
              "        ...,\n",
              "        [False, False, False, ..., False, False, False],\n",
              "        [False, False, False, ..., False, False, False],\n",
              "        [False, False, False, ..., False, False, False]],\n",
              "\n",
              "       [[False, False, False, ..., False, False, False],\n",
              "        [False, False, False, ..., False, False, False],\n",
              "        [False, False, False, ..., False, False, False],\n",
              "        ...,\n",
              "        [False, False, False, ..., False, False, False],\n",
              "        [False, False, False, ..., False, False, False],\n",
              "        [False, False, False, ..., False, False, False]],\n",
              "\n",
              "       ...,\n",
              "\n",
              "       [[False, False, False, ..., False, False,  True],\n",
              "        [False, False, False, ..., False, False, False],\n",
              "        [False, False, False, ..., False, False, False],\n",
              "        ...,\n",
              "        [False, False, False, ..., False, False, False],\n",
              "        [False, False, False, ..., False, False, False],\n",
              "        [False, False, False, ..., False, False, False]],\n",
              "\n",
              "       [[False, False, False, ..., False, False, False],\n",
              "        [False, False, False, ..., False, False, False],\n",
              "        [False, False, False, ..., False, False, False],\n",
              "        ...,\n",
              "        [False, False, False, ..., False, False, False],\n",
              "        [False, False, False, ..., False, False, False],\n",
              "        [False, False, False, ..., False, False, False]],\n",
              "\n",
              "       [[False, False, False, ..., False, False, False],\n",
              "        [False, False, False, ..., False, False, False],\n",
              "        [False, False, False, ..., False, False, False],\n",
              "        ...,\n",
              "        [False, False, False, ..., False, False, False],\n",
              "        [False, False, False, ..., False, False, False],\n",
              "        [False, False, False, ..., False, False, False]]])"
            ]
          },
          "metadata": {},
          "execution_count": 43
        }
      ],
      "source": [
        "y_pred = (y_pred > 0.5)\n",
        "y_pred"
      ]
    },
    {
      "cell_type": "code",
      "execution_count": null,
      "metadata": {
        "id": "PoZR2kuFpy1F"
      },
      "outputs": [],
      "source": [
        "# Score\n",
        "from sklearn.metrics import confusion_matrix, accuracy_score, plot_confusion_matrix\n",
        "from sklearn.metrics import classification_report"
      ]
    },
    {
      "cell_type": "code",
      "execution_count": null,
      "metadata": {
        "colab": {
          "base_uri": "https://localhost:8080/"
        },
        "id": "j4bQjYWWnyCV",
        "outputId": "77d3d7c0-1e06-4456-a7cc-10a2945d1b2a"
      },
      "outputs": [
        {
          "output_type": "stream",
          "name": "stdout",
          "text": [
            "Model: \"model\"\n",
            "_________________________________________________________________\n",
            " Layer (type)                Output Shape              Param #   \n",
            "=================================================================\n",
            " input_1 (InputLayer)        [(None, 50)]              0         \n",
            "                                                                 \n",
            " embedding (Embedding)       (None, 50, 50)            1758950   \n",
            "                                                                 \n",
            " spatial_dropout1d (SpatialD  (None, 50, 50)           0         \n",
            " ropout1D)                                                       \n",
            "                                                                 \n",
            " bidirectional (Bidirectiona  (None, 50, 200)          120800    \n",
            " l)                                                              \n",
            "                                                                 \n",
            " time_distributed (TimeDistr  (None, 50, 17)           3417      \n",
            " ibuted)                                                         \n",
            "                                                                 \n",
            "=================================================================\n",
            "Total params: 1,883,167\n",
            "Trainable params: 1,883,167\n",
            "Non-trainable params: 0\n",
            "_________________________________________________________________\n",
            "Saved model to disk\n"
          ]
        }
      ],
      "source": [
        "# save model and architecture to single file\n",
        "model.save('namedentity.h5')\n",
        "model.summary()\n",
        "\n",
        "print(\"Saved model to disk\")"
      ]
    },
    {
      "cell_type": "code",
      "execution_count": null,
      "metadata": {
        "colab": {
          "base_uri": "https://localhost:8080/",
          "height": 533
        },
        "id": "PlDhbyp9oTX9",
        "outputId": "7836cc39-98a2-4ff3-aa3e-988bd76c987e"
      },
      "outputs": [
        {
          "output_type": "execute_result",
          "data": {
            "image/png": "[encoded data removed]",
            "text/plain": [
              "<IPython.core.display.Image object>"
            ]
          },
          "metadata": {},
          "execution_count": 46
        }
      ],
      "source": [
        "from keras.utils.vis_utils import plot_model\n",
        "plot_model(model, to_file='model_plot_CNN.png', show_shapes=True, show_layer_names=True)"
      ]
    },
    {
      "cell_type": "code",
      "execution_count": null,
      "metadata": {
        "id": "1QEScShNGLOr",
        "colab": {
          "base_uri": "https://localhost:8080/"
        },
        "outputId": "e0c275cd-7282-4bc8-cbb3-98261c20cbba"
      },
      "outputs": [
        {
          "output_type": "stream",
          "name": "stdout",
          "text": [
            "Overwriting app.py\n"
          ]
        }
      ],
      "source": [
        "%%writefile app.py\n",
        "#Necessary imports\n",
        "import streamlit as st\n",
        "import nltk\n",
        "import pandas as pd\n",
        "from matplotlib import pyplot as plt\n",
        "from textblob import TextBlob\n",
        "from nltk.tokenize import sent_tokenize\n",
        "from gensim.summarization.summarizer import summarize \n",
        "\n",
        "import spacy\n",
        "nlp = spacy.load(\"en_core_web_sm\")\n",
        "\n",
        "\n",
        "from collections import Counter\n",
        "\n",
        "\n",
        "\n",
        "\n",
        "#Headings for Web Application\n",
        "st.title(\"Natural Language Processing Web Application Name Entity Recognition\")\n",
        "st.subheader(\"What type of NLP service would you like to use?\")\n",
        "\n",
        "#Picking what NLP task you want to do\n",
        "option = st.selectbox('NLP Service',('Entity Extraction','None')) #option is stored in this variable\n",
        "\n",
        "#Textbox for text user is entering\n",
        "st.subheader(\"Enter the text you'd like to analyze.\")\n",
        "text = st.text_input('Enter text') #text is stored in this variable\n",
        "\n",
        "#Display results of the NLP task\n",
        "st.header(\"Results\")\n",
        "\n",
        "#Function to take in dictionary of entities, type of entity, and returns specific entities of specific type\n",
        "def entRecognizer(entDict, typeEnt):\n",
        "    entList = [ent for ent in entDict if entDict[ent] == typeEnt]\n",
        "    return entList\n",
        "\n",
        "\n",
        "\n",
        "\n",
        "  \n",
        "\n",
        "#Named Entity Recognition\n",
        "if option == 'Entity Extraction':\n",
        "\n",
        "    #Getting Entity and type of Entity\n",
        "    entities = []\n",
        "    entityLabels = []\n",
        "    doc = nlp(text)\n",
        "    for ent in doc.ents:\n",
        "        entities.append(ent.text)\n",
        "        entityLabels.append(ent.label_)\n",
        "    entDict = dict(zip(entities, entityLabels)) #Creating dictionary with entity and entity types\n",
        "\n",
        "    #Using function to create lists of entities of each type\n",
        "    entOrg = entRecognizer(entDict, \"ORG\")\n",
        "    entCardinal = entRecognizer(entDict, \"CARDINAL\")\n",
        "    entPerson = entRecognizer(entDict, \"PERSON\")\n",
        "    entDate = entRecognizer(entDict, \"DATE\")\n",
        "    entGPE = entRecognizer(entDict, \"GPE\")\n",
        "\n",
        "    #Displaying entities of each type\n",
        "    st.write(\"Organization Entities: \" + str(entOrg))\n",
        "    st.write(\"Cardinal Entities: \" + str(entCardinal))\n",
        "    st.write(\"Personal Entities: \" + str(entPerson))\n",
        "    st.write(\"Date Entities: \" + str(entDate))\n",
        "    st.write(\"GPE Entities: \" + str(entGPE))\n",
        "\n",
        "\n",
        "\n",
        "\n",
        "\n",
        "st.text(\"\")\n",
        "st.text(\"\")\n",
        "st.text(\"\")\n",
        "st.markdown(\"***\")\n",
        "#---------------------------------#\n",
        "# About\n",
        "expander_bar = st.expander(\"About\")\n",
        "expander_bar.markdown(\"\"\"\n",
        "Kartikey Sharma, Student, Department of Computer Engineering\n",
        "\"\"\")"
      ]
    },
    {
      "cell_type": "code",
      "execution_count": null,
      "metadata": {
        "id": "iLLDvntbowxE",
        "colab": {
          "base_uri": "https://localhost:8080/"
        },
        "outputId": "d79f9d01-d88e-4e09-c5d1-b4dc08c6d4c8"
      },
      "outputs": [
        {
          "output_type": "stream",
          "name": "stdout",
          "text": [
            "Looking in indexes: https://pypi.org/simple, https://us-python.pkg.dev/colab-wheels/public/simple/\n",
            "Requirement already satisfied: streamlit==1.1.0 in /usr/local/lib/python3.7/dist-packages (1.1.0)\n",
            "Requirement already satisfied: altair>=3.2.0 in /usr/local/lib/python3.7/dist-packages (from streamlit==1.1.0) (4.2.0)\n",
            "Requirement already satisfied: astor in /usr/local/lib/python3.7/dist-packages (from streamlit==1.1.0) (0.8.1)\n",
            "Requirement already satisfied: requests in /usr/local/lib/python3.7/dist-packages (from streamlit==1.1.0) (2.23.0)\n",
            "Requirement already satisfied: tornado>=5.0 in /usr/local/lib/python3.7/dist-packages (from streamlit==1.1.0) (5.1.1)\n",
            "Requirement already satisfied: watchdog in /usr/local/lib/python3.7/dist-packages (from streamlit==1.1.0) (2.1.9)\n",
            "Requirement already satisfied: tzlocal in /usr/local/lib/python3.7/dist-packages (from streamlit==1.1.0) (1.5.1)\n",
            "Requirement already satisfied: validators in /usr/local/lib/python3.7/dist-packages (from streamlit==1.1.0) (0.20.0)\n",
            "Requirement already satisfied: toml in /usr/local/lib/python3.7/dist-packages (from streamlit==1.1.0) (0.10.2)\n",
            "Requirement already satisfied: click<8.0,>=7.0 in /usr/local/lib/python3.7/dist-packages (from streamlit==1.1.0) (7.1.2)\n",
            "Requirement already satisfied: pandas>=0.21.0 in /usr/local/lib/python3.7/dist-packages (from streamlit==1.1.0) (1.3.5)\n",
            "Requirement already satisfied: pyarrow in /usr/local/lib/python3.7/dist-packages (from streamlit==1.1.0) (6.0.1)\n",
            "Requirement already satisfied: gitpython!=3.1.19 in /usr/local/lib/python3.7/dist-packages (from streamlit==1.1.0) (3.1.27)\n",
            "Requirement already satisfied: attrs in /usr/local/lib/python3.7/dist-packages (from streamlit==1.1.0) (22.1.0)\n",
            "Requirement already satisfied: python-dateutil in /usr/local/lib/python3.7/dist-packages (from streamlit==1.1.0) (2.8.2)\n",
            "Requirement already satisfied: base58 in /usr/local/lib/python3.7/dist-packages (from streamlit==1.1.0) (2.1.1)\n",
            "Requirement already satisfied: pydeck>=0.1.dev5 in /usr/local/lib/python3.7/dist-packages (from streamlit==1.1.0) (0.8.0b1)\n",
            "Requirement already satisfied: cachetools>=4.0 in /usr/local/lib/python3.7/dist-packages (from streamlit==1.1.0) (4.2.4)\n",
            "Requirement already satisfied: blinker in /usr/local/lib/python3.7/dist-packages (from streamlit==1.1.0) (1.5)\n",
            "Requirement already satisfied: packaging in /usr/local/lib/python3.7/dist-packages (from streamlit==1.1.0) (21.3)\n",
            "Requirement already satisfied: pillow>=6.2.0 in /usr/local/lib/python3.7/dist-packages (from streamlit==1.1.0) (7.1.2)\n",
            "Requirement already satisfied: numpy in /usr/local/lib/python3.7/dist-packages (from streamlit==1.1.0) (1.21.6)\n",
            "Requirement already satisfied: protobuf!=3.11,>=3.6.0 in /usr/local/lib/python3.7/dist-packages (from streamlit==1.1.0) (3.17.3)\n",
            "Requirement already satisfied: toolz in /usr/local/lib/python3.7/dist-packages (from altair>=3.2.0->streamlit==1.1.0) (0.12.0)\n",
            "Requirement already satisfied: jinja2 in /usr/local/lib/python3.7/dist-packages (from altair>=3.2.0->streamlit==1.1.0) (2.11.3)\n",
            "Requirement already satisfied: entrypoints in /usr/local/lib/python3.7/dist-packages (from altair>=3.2.0->streamlit==1.1.0) (0.4)\n",
            "Requirement already satisfied: jsonschema>=3.0 in /usr/local/lib/python3.7/dist-packages (from altair>=3.2.0->streamlit==1.1.0) (4.3.3)\n",
            "Requirement already satisfied: gitdb<5,>=4.0.1 in /usr/local/lib/python3.7/dist-packages (from gitpython!=3.1.19->streamlit==1.1.0) (4.0.9)\n",
            "Requirement already satisfied: typing-extensions>=3.7.4.3 in /usr/local/lib/python3.7/dist-packages (from gitpython!=3.1.19->streamlit==1.1.0) (4.1.1)\n",
            "Requirement already satisfied: smmap<6,>=3.0.1 in /usr/local/lib/python3.7/dist-packages (from gitdb<5,>=4.0.1->gitpython!=3.1.19->streamlit==1.1.0) (5.0.0)\n",
            "Requirement already satisfied: importlib-metadata in /usr/local/lib/python3.7/dist-packages (from jsonschema>=3.0->altair>=3.2.0->streamlit==1.1.0) (4.12.0)\n",
            "Requirement already satisfied: pyrsistent!=0.17.0,!=0.17.1,!=0.17.2,>=0.14.0 in /usr/local/lib/python3.7/dist-packages (from jsonschema>=3.0->altair>=3.2.0->streamlit==1.1.0) (0.18.1)\n",
            "Requirement already satisfied: importlib-resources>=1.4.0 in /usr/local/lib/python3.7/dist-packages (from jsonschema>=3.0->altair>=3.2.0->streamlit==1.1.0) (5.9.0)\n",
            "Requirement already satisfied: zipp>=3.1.0 in /usr/local/lib/python3.7/dist-packages (from importlib-resources>=1.4.0->jsonschema>=3.0->altair>=3.2.0->streamlit==1.1.0) (3.8.1)\n",
            "Requirement already satisfied: pytz>=2017.3 in /usr/local/lib/python3.7/dist-packages (from pandas>=0.21.0->streamlit==1.1.0) (2022.2.1)\n",
            "Requirement already satisfied: six>=1.9 in /usr/local/lib/python3.7/dist-packages (from protobuf!=3.11,>=3.6.0->streamlit==1.1.0) (1.15.0)\n",
            "Requirement already satisfied: MarkupSafe>=0.23 in /usr/local/lib/python3.7/dist-packages (from jinja2->altair>=3.2.0->streamlit==1.1.0) (2.0.1)\n",
            "Requirement already satisfied: pyparsing!=3.0.5,>=2.0.2 in /usr/local/lib/python3.7/dist-packages (from packaging->streamlit==1.1.0) (3.0.9)\n",
            "Requirement already satisfied: idna<3,>=2.5 in /usr/local/lib/python3.7/dist-packages (from requests->streamlit==1.1.0) (2.10)\n",
            "Requirement already satisfied: urllib3!=1.25.0,!=1.25.1,<1.26,>=1.21.1 in /usr/local/lib/python3.7/dist-packages (from requests->streamlit==1.1.0) (1.24.3)\n",
            "Requirement already satisfied: certifi>=2017.4.17 in /usr/local/lib/python3.7/dist-packages (from requests->streamlit==1.1.0) (2022.6.15)\n",
            "Requirement already satisfied: chardet<4,>=3.0.2 in /usr/local/lib/python3.7/dist-packages (from requests->streamlit==1.1.0) (3.0.4)\n",
            "Requirement already satisfied: decorator>=3.4.0 in /usr/local/lib/python3.7/dist-packages (from validators->streamlit==1.1.0) (4.4.2)\n"
          ]
        }
      ],
      "source": [
        "i!pip install streamlit==1.1.0"
      ]
    },
    {
      "cell_type": "code",
      "execution_count": null,
      "metadata": {
        "id": "IO7eFLTVo0ee",
        "colab": {
          "base_uri": "https://localhost:8080/"
        },
        "outputId": "a0bd4b45-185d-4aa4-c9e4-fa93162aa45d"
      },
      "outputs": [
        {
          "output_type": "stream",
          "name": "stdout",
          "text": [
            "Looking in indexes: https://pypi.org/simple, https://us-python.pkg.dev/colab-wheels/public/simple/\n",
            "Requirement already satisfied: pyngrok in /usr/local/lib/python3.7/dist-packages (5.1.0)\n",
            "Requirement already satisfied: PyYAML in /usr/local/lib/python3.7/dist-packages (from pyngrok) (6.0)\n"
          ]
        }
      ],
      "source": [
        "!pip install pyngrok"
      ]
    },
    {
      "cell_type": "code",
      "execution_count": null,
      "metadata": {
        "id": "ZIk8-Ly-o6cw",
        "colab": {
          "base_uri": "https://localhost:8080/"
        },
        "outputId": "c10d0299-2ba5-4cfe-ebe7-717d33483c23"
      },
      "outputs": [
        {
          "output_type": "stream",
          "name": "stdout",
          "text": [
            "Authtoken saved to configuration file: /root/.ngrok2/ngrok.yml\n"
          ]
        }
      ],
      "source": [
        "!ngrok authtoken 24ualhTQOrAYZyD9kgUeY693hak_2TJFYWottqmXhmmT7PUJb"
      ]
    },
    {
      "cell_type": "code",
      "execution_count": null,
      "metadata": {
        "id": "bLxbjY-7pEnj",
        "colab": {
          "base_uri": "https://localhost:8080/"
        },
        "outputId": "55daa83f-106c-4744-963b-0da8aa1a05d9"
      },
      "outputs": [
        {
          "output_type": "stream",
          "name": "stdout",
          "text": [
            "nohup: appending output to 'nohup.out'\n"
          ]
        }
      ],
      "source": [
        "!nohup streamlit run  app.py &"
      ]
    },
    {
      "cell_type": "code",
      "execution_count": null,
      "metadata": {
        "id": "p4l8gZngpNxg",
        "colab": {
          "base_uri": "https://localhost:8080/"
        },
        "outputId": "583900fc-f859-4be4-f6f9-eeb42e4b11c4"
      },
      "outputs": [
        {
          "output_type": "execute_result",
          "data": {
            "text/plain": [
              "<NgrokTunnel: \"http://59e3-35-197-120-79.ngrok.io\" -> \"http://localhost:80\">"
            ]
          },
          "metadata": {},
          "execution_count": 91
        }
      ],
      "source": [
        "from pyngrok import ngrok\n",
        "url=ngrok.connect(port='8050')\n",
        "url"
      ]
    },
    {
      "cell_type": "code",
      "execution_count": null,
      "metadata": {
        "id": "y6xlbVo7pQo1",
        "colab": {
          "base_uri": "https://localhost:8080/"
        },
        "outputId": "e1fbac83-864c-4aa1-8faf-1d705c3e9583"
      },
      "outputs": [
        {
          "output_type": "stream",
          "name": "stdout",
          "text": [
            "2022-09-02 13:07:07.118 INFO    numexpr.utils: NumExpr defaulting to 2 threads.\n",
            "\u001b[0m\n",
            "\u001b[34m\u001b[1m  You can now view your Streamlit app in your browser.\u001b[0m\n",
            "\u001b[0m\n",
            "\u001b[34m  Network URL: \u001b[0m\u001b[1mhttp://172.28.0.2:80\u001b[0m\n",
            "\u001b[34m  External URL: \u001b[0m\u001b[1mhttp://35.197.120.79:80\u001b[0m\n",
            "\u001b[0m\n",
            "2022-09-02 13:07:09.419 'pattern' package not found; tag filters are not available for English\n",
            "2022-09-02 13:07:12.912845: E tensorflow/stream_executor/cuda/cuda_driver.cc:271] failed call to cuInit: CUDA_ERROR_NO_DEVICE: no CUDA-capable device is detected\n",
            "\u001b[34m  Stopping...\u001b[0m\n",
            "^C\n"
          ]
        }
      ],
      "source": [
        "!streamlit run --server.port 80 app.py"
      ]
    },
    {
      "cell_type": "code",
      "source": [],
      "metadata": {
        "id": "QuyVlyCsSk5N"
      },
      "execution_count": null,
      "outputs": []
    },
    {
      "cell_type": "code",
      "execution_count": null,
      "metadata": {
        "id": "tb5f17E6pTFA"
      },
      "outputs": [],
      "source": []
    }
  ],
  "metadata": {
    "accelerator": "GPU",
    "colab": {
      "collapsed_sections": [],
      "provenance": []
    },
    "gpuClass": "standard",
    "kernelspec": {
      "display_name": "Python 3",
      "name": "python3"
    },
    "language_info": {
      "name": "python"
    }
  },
  "nbformat": 4,
  "nbformat_minor": 0
}